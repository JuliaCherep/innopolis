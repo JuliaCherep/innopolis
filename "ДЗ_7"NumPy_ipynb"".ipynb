{
  "cells": [
    {
      "cell_type": "markdown",
      "metadata": {
        "id": "view-in-github",
        "colab_type": "text"
      },
      "source": [
        "<a href=\"https://colab.research.google.com/github/JuliaCherep/innopolis/blob/Test1/%22%D0%94%D0%97_7%22NumPy_ipynb%22%22.ipynb\" target=\"_parent\"><img src=\"https://colab.research.google.com/assets/colab-badge.svg\" alt=\"Open In Colab\"/></a>"
      ]
    },
    {
      "cell_type": "markdown",
      "metadata": {
        "id": "4ovgNW2CkfUL"
      },
      "source": [
        "# Упражнения с NumPy \n",
        "\n",
        "Давайте проверим ваши знания. Мы начнем с нескольких простых задач, а затем вам будут заданы несколько более сложных вопросов.\n",
        "\n",
        "Важно! Код, который вы напишите в этом ноутбуке, вам нужно сохранить в виде файла c именем \"Numpy_solutions.ipynb\" в вашем личном репозитории на GitHub."
      ]
    },
    {
      "cell_type": "markdown",
      "metadata": {
        "id": "K0idaWhskfUW"
      },
      "source": [
        "#### 1. Импорт NumPy "
      ]
    },
    {
      "cell_type": "code",
      "execution_count": null,
      "metadata": {
        "id": "Rwb4uqhHkfUY"
      },
      "outputs": [],
      "source": [
        "import numpy as np\n"
      ]
    },
    {
      "cell_type": "markdown",
      "metadata": {
        "id": "l62yRo8RkfUZ"
      },
      "source": [
        "#### 2. Создать массив из 10 нулей"
      ]
    },
    {
      "cell_type": "code",
      "execution_count": null,
      "metadata": {
        "collapsed": true,
        "id": "nzid7taSkfUa",
        "outputId": "b9c24385-bb71-4248-88b7-f789e74cba07",
        "colab": {
          "base_uri": "https://localhost:8080/"
        }
      },
      "outputs": [
        {
          "output_type": "execute_result",
          "data": {
            "text/plain": [
              "array([0., 0., 0., 0., 0., 0., 0., 0., 0., 0.])"
            ]
          },
          "metadata": {},
          "execution_count": 4
        }
      ],
      "source": [
        "np.zeros(10)\n"
      ]
    },
    {
      "cell_type": "code",
      "execution_count": null,
      "metadata": {
        "id": "VhNxsj63kfUb",
        "outputId": "6819a5a0-133f-424a-e7c5-9c50c43bfbbb"
      },
      "outputs": [
        {
          "data": {
            "text/plain": [
              "array([0., 0., 0., 0., 0., 0., 0., 0., 0., 0.])"
            ]
          },
          "execution_count": 2,
          "metadata": {},
          "output_type": "execute_result"
        }
      ],
      "source": [
        "# не пишите код в этой ячейке"
      ]
    },
    {
      "cell_type": "markdown",
      "metadata": {
        "id": "Ct1uudwSkfUe"
      },
      "source": [
        "#### 3. Создать массив из 10 единиц"
      ]
    },
    {
      "cell_type": "code",
      "execution_count": null,
      "metadata": {
        "collapsed": true,
        "id": "_2Z0QmgzkfUg",
        "outputId": "db436d4d-0586-4bd5-b6c3-c85dc76d35a7",
        "colab": {
          "base_uri": "https://localhost:8080/"
        }
      },
      "outputs": [
        {
          "output_type": "execute_result",
          "data": {
            "text/plain": [
              "array([1., 1., 1., 1., 1., 1., 1., 1., 1., 1.])"
            ]
          },
          "metadata": {},
          "execution_count": 5
        }
      ],
      "source": [
        "np.ones(10)"
      ]
    },
    {
      "cell_type": "code",
      "execution_count": null,
      "metadata": {
        "id": "hfiVNuGKkfUh",
        "outputId": "51941e13-85f0-43ba-a12f-a38e06dd9ea4"
      },
      "outputs": [
        {
          "data": {
            "text/plain": [
              "array([1., 1., 1., 1., 1., 1., 1., 1., 1., 1.])"
            ]
          },
          "execution_count": 3,
          "metadata": {},
          "output_type": "execute_result"
        }
      ],
      "source": [
        "# не пишите код в этой ячейке"
      ]
    },
    {
      "cell_type": "markdown",
      "metadata": {
        "id": "wAeuYOSakfUj"
      },
      "source": [
        "#### 4. Создать массив из  10 пятерок"
      ]
    },
    {
      "cell_type": "code",
      "execution_count": null,
      "metadata": {
        "collapsed": true,
        "id": "hY_d7ssfkfUk",
        "outputId": "6848b1db-4f89-490a-bbbc-dd6d8da84b9a",
        "colab": {
          "base_uri": "https://localhost:8080/"
        }
      },
      "outputs": [
        {
          "output_type": "execute_result",
          "data": {
            "text/plain": [
              "array([5, 5, 5, 5, 5, 5, 5, 5, 5, 5])"
            ]
          },
          "metadata": {},
          "execution_count": 7
        }
      ],
      "source": [
        "np.full(10, 5)"
      ]
    },
    {
      "cell_type": "code",
      "execution_count": null,
      "metadata": {
        "id": "sWS_44dVkfUk",
        "outputId": "fb29f4af-5d80-4e2d-b215-1d1f2de6fcb8"
      },
      "outputs": [
        {
          "data": {
            "text/plain": [
              "array([5., 5., 5., 5., 5., 5., 5., 5., 5., 5.])"
            ]
          },
          "execution_count": 4,
          "metadata": {},
          "output_type": "execute_result"
        }
      ],
      "source": [
        "# не пишите код в этой ячейке"
      ]
    },
    {
      "cell_type": "markdown",
      "metadata": {
        "id": "shYl6fsNkfUl"
      },
      "source": [
        "#### 5. Создать массив из целых чисел от 10 до 50"
      ]
    },
    {
      "cell_type": "code",
      "execution_count": null,
      "metadata": {
        "collapsed": true,
        "id": "Ql175F7qkfUm",
        "outputId": "a616cc11-9603-4d02-d961-83b1200c2b40",
        "colab": {
          "base_uri": "https://localhost:8080/"
        }
      },
      "outputs": [
        {
          "output_type": "execute_result",
          "data": {
            "text/plain": [
              "array([10, 11, 12, 13, 14, 15, 16, 17, 18, 19, 20, 21, 22, 23, 24, 25, 26,\n",
              "       27, 28, 29, 30, 31, 32, 33, 34, 35, 36, 37, 38, 39, 40, 41, 42, 43,\n",
              "       44, 45, 46, 47, 48, 49, 50])"
            ]
          },
          "metadata": {},
          "execution_count": 9
        }
      ],
      "source": [
        "np.arange(10,51)"
      ]
    },
    {
      "cell_type": "code",
      "execution_count": null,
      "metadata": {
        "id": "HlDhAZEakfUn",
        "outputId": "c968cbde-1cca-4466-808c-836d9091a563"
      },
      "outputs": [
        {
          "data": {
            "text/plain": [
              "array([10, 11, 12, 13, 14, 15, 16, 17, 18, 19, 20, 21, 22, 23, 24, 25, 26,\n",
              "       27, 28, 29, 30, 31, 32, 33, 34, 35, 36, 37, 38, 39, 40, 41, 42, 43,\n",
              "       44, 45, 46, 47, 48, 49, 50])"
            ]
          },
          "execution_count": 5,
          "metadata": {},
          "output_type": "execute_result"
        }
      ],
      "source": [
        "# не пишите код в этой ячейке"
      ]
    },
    {
      "cell_type": "markdown",
      "metadata": {
        "id": "_gXXaLbPkfUo"
      },
      "source": [
        "#### 6. Создать массив из четных числел от 10 до 50"
      ]
    },
    {
      "cell_type": "code",
      "execution_count": null,
      "metadata": {
        "collapsed": true,
        "id": "PHkQQZgzkfUo",
        "outputId": "d15d1cd7-4f6d-4a99-f95a-febf63f759dd",
        "colab": {
          "base_uri": "https://localhost:8080/"
        }
      },
      "outputs": [
        {
          "output_type": "execute_result",
          "data": {
            "text/plain": [
              "array([10, 12, 14, 16, 18, 20, 22, 24, 26, 28, 30, 32, 34, 36, 38, 40, 42,\n",
              "       44, 46, 48, 50])"
            ]
          },
          "metadata": {},
          "execution_count": 11
        }
      ],
      "source": [
        "np.arange(10,51,2)"
      ]
    },
    {
      "cell_type": "code",
      "execution_count": null,
      "metadata": {
        "id": "1876Hw-3kfUo",
        "outputId": "97a1e0d2-b7b6-4c25-8c02-0c8d410d59d6"
      },
      "outputs": [
        {
          "data": {
            "text/plain": [
              "array([10, 12, 14, 16, 18, 20, 22, 24, 26, 28, 30, 32, 34, 36, 38, 40, 42,\n",
              "       44, 46, 48, 50])"
            ]
          },
          "execution_count": 6,
          "metadata": {},
          "output_type": "execute_result"
        }
      ],
      "source": [
        "# не пишите код в этой ячейке"
      ]
    },
    {
      "cell_type": "markdown",
      "metadata": {
        "id": "cstZRDOwkfUp"
      },
      "source": [
        "#### 7. Создать матрицу 3х3 с числами от 0 до 8"
      ]
    },
    {
      "cell_type": "code",
      "execution_count": null,
      "metadata": {
        "collapsed": true,
        "id": "7bblCFKxkfUq",
        "outputId": "c15b0055-e07e-4337-c6aa-ca6e8487971c",
        "colab": {
          "base_uri": "https://localhost:8080/"
        }
      },
      "outputs": [
        {
          "output_type": "execute_result",
          "data": {
            "text/plain": [
              "array([[0, 1, 2],\n",
              "       [3, 4, 5],\n",
              "       [6, 7, 8]])"
            ]
          },
          "metadata": {},
          "execution_count": 5
        }
      ],
      "source": [
        "np.arange(0,9).reshape(3,3)"
      ]
    },
    {
      "cell_type": "code",
      "execution_count": null,
      "metadata": {
        "id": "PqqkN_7IkfUq",
        "outputId": "49867b0d-358f-4464-eef7-15ac0ec9d878"
      },
      "outputs": [
        {
          "data": {
            "text/plain": [
              "array([[0, 1, 2],\n",
              "       [3, 4, 5],\n",
              "       [6, 7, 8]])"
            ]
          },
          "execution_count": 7,
          "metadata": {},
          "output_type": "execute_result"
        }
      ],
      "source": [
        "# не пишите код в этой ячейке"
      ]
    },
    {
      "cell_type": "markdown",
      "metadata": {
        "id": "PA_P8RfHkfUr"
      },
      "source": [
        "#### 8. Создать единичную матрицу 3x3 "
      ]
    },
    {
      "cell_type": "code",
      "execution_count": null,
      "metadata": {
        "collapsed": true,
        "id": "st8avckrkfUr",
        "colab": {
          "base_uri": "https://localhost:8080/"
        },
        "outputId": "03dd3e73-067d-48a7-f77e-b938833cd0c5"
      },
      "outputs": [
        {
          "output_type": "execute_result",
          "data": {
            "text/plain": [
              "array([[1., 0., 0.],\n",
              "       [0., 1., 0.],\n",
              "       [0., 0., 1.]])"
            ]
          },
          "metadata": {},
          "execution_count": 9
        }
      ],
      "source": [
        "np.eye(3)"
      ]
    },
    {
      "cell_type": "code",
      "execution_count": null,
      "metadata": {
        "id": "Bl4vB6XCkfUs",
        "outputId": "9437e858-f00b-4c52-e00f-387db1ebe645"
      },
      "outputs": [
        {
          "data": {
            "text/plain": [
              "array([[1., 0., 0.],\n",
              "       [0., 1., 0.],\n",
              "       [0., 0., 1.]])"
            ]
          },
          "execution_count": 8,
          "metadata": {},
          "output_type": "execute_result"
        }
      ],
      "source": [
        "# не пишите код в этой ячейке"
      ]
    },
    {
      "cell_type": "markdown",
      "metadata": {
        "id": "dU2LAw5qkfUs"
      },
      "source": [
        "#### 9. Используйте NumPy для генерации случайного числа от 0 до 1\n",
        "<br>ПРИМЕЧАНИЕ. Значение вашего результата должно отличаться от приведенного ниже."
      ]
    },
    {
      "cell_type": "code",
      "execution_count": null,
      "metadata": {
        "collapsed": true,
        "id": "L1OJr3SlkfUt",
        "colab": {
          "base_uri": "https://localhost:8080/"
        },
        "outputId": "0e5b4b90-ecaa-4711-824f-ac3cf9b29231"
      },
      "outputs": [
        {
          "output_type": "execute_result",
          "data": {
            "text/plain": [
              "0.44731850778214255"
            ]
          },
          "metadata": {},
          "execution_count": 12
        }
      ],
      "source": [
        "np.random.random()"
      ]
    },
    {
      "cell_type": "code",
      "execution_count": null,
      "metadata": {
        "id": "mg6vYuGBkfUt",
        "outputId": "b558b5b3-1756-4097-c2f6-d83ce9baca25"
      },
      "outputs": [
        {
          "data": {
            "text/plain": [
              "array([0.65248055])"
            ]
          },
          "execution_count": 9,
          "metadata": {},
          "output_type": "execute_result"
        }
      ],
      "source": [
        "# не пишите код в этой ячейке"
      ]
    },
    {
      "cell_type": "markdown",
      "metadata": {
        "id": "w8he6wy1kfUv"
      },
      "source": [
        "#### Используйте NumPy для генерации массива из 25 случайных чисел, взятых из стандартного нормального распределения\n",
        "<br>ПРИМЕЧАНИЕ. Значение вашего результата должно отличаться от приведенного ниже."
      ]
    },
    {
      "cell_type": "code",
      "execution_count": null,
      "metadata": {
        "collapsed": true,
        "id": "Szjfk4qUkfUv",
        "colab": {
          "base_uri": "https://localhost:8080/"
        },
        "outputId": "75bcd082-f4d6-4376-a8be-582b30ccf834"
      },
      "outputs": [
        {
          "output_type": "execute_result",
          "data": {
            "text/plain": [
              "array([ 0.22079419, -0.55572339,  1.68713399, -1.33217968,  0.64567213,\n",
              "        0.13531376,  1.30445564,  1.21565965,  0.35456181,  0.47023868,\n",
              "        2.29408797, -0.26638708, -0.50880687,  1.68271346,  1.75377164,\n",
              "        0.2555922 , -1.78053841, -0.40145131,  2.07524045, -0.75811566,\n",
              "       -0.9573591 ,  1.04057312,  0.77032216, -0.5903704 , -1.68674525])"
            ]
          },
          "metadata": {},
          "execution_count": 15
        }
      ],
      "source": [
        "np.random.standard_normal(25)"
      ]
    },
    {
      "cell_type": "code",
      "execution_count": null,
      "metadata": {
        "id": "UBuoXwF3kfUw",
        "outputId": "f95d6a9b-f19c-46ac-c4e9-78f2fdaddfd4"
      },
      "outputs": [
        {
          "data": {
            "text/plain": [
              "array([ 1.80076712, -1.12375847, -0.98524305,  0.11673573,  1.96346762,\n",
              "        1.81378592, -0.33790771,  0.85012656,  0.0100703 , -0.91005957,\n",
              "        0.29064366,  0.69906357,  0.1774377 , -0.61958694, -0.45498611,\n",
              "       -2.0804685 , -0.06778549,  1.06403819,  0.4311884 , -1.09853837,\n",
              "        1.11980469, -0.48751963,  1.32517611, -0.61775122, -0.00622865])"
            ]
          },
          "execution_count": 10,
          "metadata": {},
          "output_type": "execute_result"
        }
      ],
      "source": [
        "# не пишите код в этой ячейке"
      ]
    },
    {
      "cell_type": "markdown",
      "metadata": {
        "id": "uROHRlfCkfUx"
      },
      "source": [
        "#### 11. Создайте следующую матрицу:"
      ]
    },
    {
      "cell_type": "code",
      "execution_count": null,
      "metadata": {
        "collapsed": true,
        "id": "ivXTUobLkfUx",
        "colab": {
          "base_uri": "https://localhost:8080/"
        },
        "outputId": "fcd14e1a-b9e7-4e36-86fb-fa9b7d56fc1f"
      },
      "outputs": [
        {
          "output_type": "execute_result",
          "data": {
            "text/plain": [
              "array([[0.01, 0.02, 0.03, 0.04, 0.05, 0.06, 0.07, 0.08, 0.09, 0.1 ],\n",
              "       [0.11, 0.12, 0.13, 0.14, 0.15, 0.16, 0.17, 0.18, 0.19, 0.2 ],\n",
              "       [0.21, 0.22, 0.23, 0.24, 0.25, 0.26, 0.27, 0.28, 0.29, 0.3 ],\n",
              "       [0.31, 0.32, 0.33, 0.34, 0.35, 0.36, 0.37, 0.38, 0.39, 0.4 ],\n",
              "       [0.41, 0.42, 0.43, 0.44, 0.45, 0.46, 0.47, 0.48, 0.49, 0.5 ],\n",
              "       [0.51, 0.52, 0.53, 0.54, 0.55, 0.56, 0.57, 0.58, 0.59, 0.6 ],\n",
              "       [0.61, 0.62, 0.63, 0.64, 0.65, 0.66, 0.67, 0.68, 0.69, 0.7 ],\n",
              "       [0.71, 0.72, 0.73, 0.74, 0.75, 0.76, 0.77, 0.78, 0.79, 0.8 ],\n",
              "       [0.81, 0.82, 0.83, 0.84, 0.85, 0.86, 0.87, 0.88, 0.89, 0.9 ],\n",
              "       [0.91, 0.92, 0.93, 0.94, 0.95, 0.96, 0.97, 0.98, 0.99, 1.  ]])"
            ]
          },
          "metadata": {},
          "execution_count": 18
        }
      ],
      "source": [
        "np.arange(0.01,1.01,0.01).reshape(10,10)"
      ]
    },
    {
      "cell_type": "code",
      "execution_count": null,
      "metadata": {
        "id": "FJN701gwkfUx",
        "outputId": "803e1db1-e30d-4006-e016-96298d431ade"
      },
      "outputs": [
        {
          "data": {
            "text/plain": [
              "array([[0.01, 0.02, 0.03, 0.04, 0.05, 0.06, 0.07, 0.08, 0.09, 0.1 ],\n",
              "       [0.11, 0.12, 0.13, 0.14, 0.15, 0.16, 0.17, 0.18, 0.19, 0.2 ],\n",
              "       [0.21, 0.22, 0.23, 0.24, 0.25, 0.26, 0.27, 0.28, 0.29, 0.3 ],\n",
              "       [0.31, 0.32, 0.33, 0.34, 0.35, 0.36, 0.37, 0.38, 0.39, 0.4 ],\n",
              "       [0.41, 0.42, 0.43, 0.44, 0.45, 0.46, 0.47, 0.48, 0.49, 0.5 ],\n",
              "       [0.51, 0.52, 0.53, 0.54, 0.55, 0.56, 0.57, 0.58, 0.59, 0.6 ],\n",
              "       [0.61, 0.62, 0.63, 0.64, 0.65, 0.66, 0.67, 0.68, 0.69, 0.7 ],\n",
              "       [0.71, 0.72, 0.73, 0.74, 0.75, 0.76, 0.77, 0.78, 0.79, 0.8 ],\n",
              "       [0.81, 0.82, 0.83, 0.84, 0.85, 0.86, 0.87, 0.88, 0.89, 0.9 ],\n",
              "       [0.91, 0.92, 0.93, 0.94, 0.95, 0.96, 0.97, 0.98, 0.99, 1.  ]])"
            ]
          },
          "execution_count": 11,
          "metadata": {},
          "output_type": "execute_result"
        }
      ],
      "source": [
        "# не пишите код в этой ячейке"
      ]
    },
    {
      "cell_type": "markdown",
      "metadata": {
        "id": "wYQ9e1YbkfUy"
      },
      "source": [
        "#### 12. Создайте массив из 20 линейно расположенных точек между 0 и 1:"
      ]
    },
    {
      "cell_type": "code",
      "execution_count": null,
      "metadata": {
        "collapsed": true,
        "id": "uhdSxvu7kfUy",
        "colab": {
          "base_uri": "https://localhost:8080/"
        },
        "outputId": "c2e3a5f8-d87e-4649-c60b-edf6429b30a8"
      },
      "outputs": [
        {
          "output_type": "execute_result",
          "data": {
            "text/plain": [
              "array([0.        , 0.05263158, 0.10526316, 0.15789474, 0.21052632,\n",
              "       0.26315789, 0.31578947, 0.36842105, 0.42105263, 0.47368421,\n",
              "       0.52631579, 0.57894737, 0.63157895, 0.68421053, 0.73684211,\n",
              "       0.78947368, 0.84210526, 0.89473684, 0.94736842, 1.        ])"
            ]
          },
          "metadata": {},
          "execution_count": 22
        }
      ],
      "source": [
        "np.linspace(0,1,20)"
      ]
    },
    {
      "cell_type": "code",
      "execution_count": null,
      "metadata": {
        "id": "KTg0JfbHkfUz",
        "outputId": "158b1e31-6795-415b-d8ff-5bdf705a39ad"
      },
      "outputs": [
        {
          "data": {
            "text/plain": [
              "array([0.        , 0.05263158, 0.10526316, 0.15789474, 0.21052632,\n",
              "       0.26315789, 0.31578947, 0.36842105, 0.42105263, 0.47368421,\n",
              "       0.52631579, 0.57894737, 0.63157895, 0.68421053, 0.73684211,\n",
              "       0.78947368, 0.84210526, 0.89473684, 0.94736842, 1.        ])"
            ]
          },
          "execution_count": 12,
          "metadata": {},
          "output_type": "execute_result"
        }
      ],
      "source": [
        "# не пишите код в этой ячейке"
      ]
    },
    {
      "cell_type": "markdown",
      "metadata": {
        "id": "lTIHYLS9kfUz"
      },
      "source": [
        "## Numpy индексация и выборка\n",
        "\n",
        "Дана стартовая матрица (обязательно запустите ячейку ниже!). Вам необходимо повторить выходные результаты матрицы:"
      ]
    },
    {
      "cell_type": "code",
      "execution_count": null,
      "metadata": {
        "id": "b8Q--L_IkfU0",
        "outputId": "85311ab3-5098-4872-96b9-0f9b3b5cb749",
        "colab": {
          "base_uri": "https://localhost:8080/"
        }
      },
      "outputs": [
        {
          "output_type": "execute_result",
          "data": {
            "text/plain": [
              "array([[ 1,  2,  3,  4,  5],\n",
              "       [ 6,  7,  8,  9, 10],\n",
              "       [11, 12, 13, 14, 15],\n",
              "       [16, 17, 18, 19, 20],\n",
              "       [21, 22, 23, 24, 25]])"
            ]
          },
          "metadata": {},
          "execution_count": 3
        }
      ],
      "source": [
        "# это наша стартовая матрица\n",
        "mat = np.arange(1,26).reshape(5,5)\n",
        "mat"
      ]
    },
    {
      "cell_type": "markdown",
      "metadata": {
        "id": "8BBkStQ5kfU0"
      },
      "source": [
        "#### 13. Напишите код, который воспроизводит вывод, показанный ниже.\n"
      ]
    },
    {
      "cell_type": "code",
      "execution_count": null,
      "metadata": {
        "collapsed": true,
        "id": "czUj1JCVkfU1",
        "colab": {
          "base_uri": "https://localhost:8080/"
        },
        "outputId": "b9c98976-8ac7-4fcc-fd7c-cf67d8a59347"
      },
      "outputs": [
        {
          "output_type": "execute_result",
          "data": {
            "text/plain": [
              "array([[12, 13, 14, 15],\n",
              "       [17, 18, 19, 20],\n",
              "       [22, 23, 24, 25]])"
            ]
          },
          "metadata": {},
          "execution_count": 25
        }
      ],
      "source": [
        "# CODE HERE\n",
        "\n",
        "mat[2:,1:]\n"
      ]
    },
    {
      "cell_type": "code",
      "execution_count": null,
      "metadata": {
        "id": "98vu_mO-kfU1",
        "outputId": "d6bdccb1-6746-455b-c3f1-73cbc23fe6f7"
      },
      "outputs": [
        {
          "data": {
            "text/plain": [
              "array([[12, 13, 14, 15],\n",
              "       [17, 18, 19, 20],\n",
              "       [22, 23, 24, 25]])"
            ]
          },
          "execution_count": 14,
          "metadata": {},
          "output_type": "execute_result"
        }
      ],
      "source": [
        "# не пишите код в этой ячейке"
      ]
    },
    {
      "cell_type": "markdown",
      "metadata": {
        "id": "jNvBvFRdkfU1"
      },
      "source": [
        "#### 14. Напишите код, который воспроизводит вывод, показанный ниже."
      ]
    },
    {
      "cell_type": "code",
      "execution_count": null,
      "metadata": {
        "id": "pEkcXX3AkfU2",
        "colab": {
          "base_uri": "https://localhost:8080/"
        },
        "outputId": "ba31135e-a0b3-4274-dc59-107ad6744df8"
      },
      "outputs": [
        {
          "output_type": "execute_result",
          "data": {
            "text/plain": [
              "20"
            ]
          },
          "metadata": {},
          "execution_count": 6
        }
      ],
      "source": [
        "mat[3,4]"
      ]
    },
    {
      "cell_type": "code",
      "execution_count": null,
      "metadata": {
        "id": "Nwy3ZrvhkfU2",
        "outputId": "b3c2a2b5-b024-47e1-8d07-dbd294cf473d"
      },
      "outputs": [
        {
          "data": {
            "text/plain": [
              "20"
            ]
          },
          "execution_count": 15,
          "metadata": {},
          "output_type": "execute_result"
        }
      ],
      "source": [
        "# не пишите код в этой ячейке"
      ]
    },
    {
      "cell_type": "markdown",
      "metadata": {
        "id": "WJem3Ra1kfU2"
      },
      "source": [
        "#### 15. Напишите код, который воспроизводит вывод, показанный ниже."
      ]
    },
    {
      "cell_type": "code",
      "execution_count": null,
      "metadata": {
        "id": "PiDPR7D7kfU2",
        "colab": {
          "base_uri": "https://localhost:8080/"
        },
        "outputId": "3c8c20f3-d572-4df3-d276-6f00d1e31cb2"
      },
      "outputs": [
        {
          "output_type": "execute_result",
          "data": {
            "text/plain": [
              "array([[ 2],\n",
              "       [ 7],\n",
              "       [12]])"
            ]
          },
          "metadata": {},
          "execution_count": 7
        }
      ],
      "source": [
        "mat[:3,1].reshape(3,1)"
      ]
    },
    {
      "cell_type": "code",
      "execution_count": null,
      "metadata": {
        "id": "mU8d1SMokfU3",
        "outputId": "71508881-68c8-4dcc-bad0-083904df065a"
      },
      "outputs": [
        {
          "data": {
            "text/plain": [
              "array([[ 2],\n",
              "       [ 7],\n",
              "       [12]])"
            ]
          },
          "execution_count": 16,
          "metadata": {},
          "output_type": "execute_result"
        }
      ],
      "source": [
        "# не пишите код в этой ячейке"
      ]
    },
    {
      "cell_type": "markdown",
      "metadata": {
        "id": "D27eHfM4kfU3"
      },
      "source": [
        "#### 16. Напишите код, который воспроизводит вывод, показанный ниже."
      ]
    },
    {
      "cell_type": "code",
      "execution_count": null,
      "metadata": {
        "id": "_E1CA6aBkfU3",
        "colab": {
          "base_uri": "https://localhost:8080/"
        },
        "outputId": "fdefff88-6f35-467b-897e-0fee6567afcb"
      },
      "outputs": [
        {
          "output_type": "execute_result",
          "data": {
            "text/plain": [
              "array([21, 22, 23, 24, 25])"
            ]
          },
          "metadata": {},
          "execution_count": 8
        }
      ],
      "source": [
        "mat[4,:]"
      ]
    },
    {
      "cell_type": "code",
      "execution_count": null,
      "metadata": {
        "id": "ZIPBNc7akfU3",
        "outputId": "a6524175-17c5-4185-b054-957c9d1e6e49"
      },
      "outputs": [
        {
          "data": {
            "text/plain": [
              "array([21, 22, 23, 24, 25])"
            ]
          },
          "execution_count": 17,
          "metadata": {},
          "output_type": "execute_result"
        }
      ],
      "source": [
        "# не пишите код в этой ячейке"
      ]
    },
    {
      "cell_type": "markdown",
      "metadata": {
        "id": "hyrceza_kfU4"
      },
      "source": [
        "#### 17. Напишите код, который воспроизводит вывод, показанный ниже."
      ]
    },
    {
      "cell_type": "code",
      "execution_count": null,
      "metadata": {
        "id": "H4MEw2PxkfU4",
        "colab": {
          "base_uri": "https://localhost:8080/"
        },
        "outputId": "77af4773-3c44-4e7f-f67e-7ede95503a62"
      },
      "outputs": [
        {
          "output_type": "execute_result",
          "data": {
            "text/plain": [
              "array([[16, 17, 18, 19, 20],\n",
              "       [21, 22, 23, 24, 25]])"
            ]
          },
          "metadata": {},
          "execution_count": 9
        }
      ],
      "source": [
        "mat[3:,:]"
      ]
    },
    {
      "cell_type": "code",
      "execution_count": null,
      "metadata": {
        "id": "T2FYIBxckfU4",
        "outputId": "c3410ef6-986e-4513-85da-b94b094b727b"
      },
      "outputs": [
        {
          "data": {
            "text/plain": [
              "array([[16, 17, 18, 19, 20],\n",
              "       [21, 22, 23, 24, 25]])"
            ]
          },
          "execution_count": 18,
          "metadata": {},
          "output_type": "execute_result"
        }
      ],
      "source": [
        "# не пишите код в этой ячейке"
      ]
    },
    {
      "cell_type": "markdown",
      "metadata": {
        "id": "8POG8EVLkfU4"
      },
      "source": [
        "## Операции NumPy "
      ]
    },
    {
      "cell_type": "markdown",
      "metadata": {
        "id": "LxO6qNTKkfU5"
      },
      "source": [
        "#### 18. Получить сумму всех значений в матрице mat"
      ]
    },
    {
      "cell_type": "code",
      "execution_count": null,
      "metadata": {
        "collapsed": true,
        "id": "Hrplbg-okfU5",
        "colab": {
          "base_uri": "https://localhost:8080/"
        },
        "outputId": "3bdd3d0d-5d00-4cdc-fea6-d1d2d2e10d31"
      },
      "outputs": [
        {
          "output_type": "execute_result",
          "data": {
            "text/plain": [
              "325"
            ]
          },
          "metadata": {},
          "execution_count": 13
        }
      ],
      "source": [
        "np.sum(mat)"
      ]
    },
    {
      "cell_type": "code",
      "execution_count": null,
      "metadata": {
        "id": "GxShlNsHkfU5",
        "outputId": "7275c1ae-c5fa-4d4c-8fd9-23bc7816ff2a"
      },
      "outputs": [
        {
          "data": {
            "text/plain": [
              "325"
            ]
          },
          "execution_count": 19,
          "metadata": {},
          "output_type": "execute_result"
        }
      ],
      "source": [
        "# не пишите код в этой ячейке"
      ]
    },
    {
      "cell_type": "markdown",
      "metadata": {
        "id": "WttPljhPkfU5"
      },
      "source": [
        "#### 19. Получить стандартное отклонение в матрице mat"
      ]
    },
    {
      "cell_type": "code",
      "execution_count": null,
      "metadata": {
        "collapsed": true,
        "id": "XzuKDYmzkfU6",
        "colab": {
          "base_uri": "https://localhost:8080/"
        },
        "outputId": "a93f418f-a522-45fa-b0b5-95013e3a467e"
      },
      "outputs": [
        {
          "output_type": "execute_result",
          "data": {
            "text/plain": [
              "7.211102550927978"
            ]
          },
          "metadata": {},
          "execution_count": 14
        }
      ],
      "source": [
        "np.std(mat)"
      ]
    },
    {
      "cell_type": "code",
      "execution_count": null,
      "metadata": {
        "id": "eE56gBYdkfU6",
        "outputId": "d0c98ed2-c7c9-4cf2-c926-19dceeaed948"
      },
      "outputs": [
        {
          "data": {
            "text/plain": [
              "7.211102550927978"
            ]
          },
          "execution_count": 20,
          "metadata": {},
          "output_type": "execute_result"
        }
      ],
      "source": [
        "# не пишите код в этой ячейке"
      ]
    },
    {
      "cell_type": "markdown",
      "metadata": {
        "id": "lAHZNzlQkfU6"
      },
      "source": [
        "#### 20. Получить сумму значений в колонках в матрице mat"
      ]
    },
    {
      "cell_type": "code",
      "execution_count": null,
      "metadata": {
        "collapsed": true,
        "id": "Ep23YbfokfU6",
        "colab": {
          "base_uri": "https://localhost:8080/"
        },
        "outputId": "87946490-dd8c-485d-b540-6b8d8f8649eb"
      },
      "outputs": [
        {
          "output_type": "execute_result",
          "data": {
            "text/plain": [
              "array([55, 60, 65, 70, 75])"
            ]
          },
          "metadata": {},
          "execution_count": 16
        }
      ],
      "source": [
        "mat.sum(0)"
      ]
    },
    {
      "cell_type": "code",
      "execution_count": null,
      "metadata": {
        "id": "W9ghCNjSkfU6",
        "outputId": "dc17dfd2-fe59-404b-c2e0-fdbb05e9c5bc"
      },
      "outputs": [
        {
          "data": {
            "text/plain": [
              "array([55, 60, 65, 70, 75])"
            ]
          },
          "execution_count": 21,
          "metadata": {},
          "output_type": "execute_result"
        }
      ],
      "source": [
        "# не пишите код в этой ячейке"
      ]
    },
    {
      "cell_type": "markdown",
      "metadata": {
        "id": "5AKMhhUGkfU7"
      },
      "source": [
        "## Бонусный вопрос\n",
        "\n",
        "Есть ли способ гарантировать, что мы всегда получим одинаковые случайные числа?"
      ]
    },
    {
      "cell_type": "code",
      "execution_count": null,
      "metadata": {
        "collapsed": true,
        "id": "pphl0VECkfU7",
        "colab": {
          "base_uri": "https://localhost:8080/"
        },
        "outputId": "766e73f5-c0ee-4f14-8a69-a94d0df7f83d"
      },
      "outputs": [
        {
          "output_type": "execute_result",
          "data": {
            "text/plain": [
              "array([0.5488135 , 0.71518937, 0.60276338, 0.54488318, 0.4236548 ])"
            ]
          },
          "metadata": {},
          "execution_count": 22
        }
      ],
      "source": [
        "np.random.seed(0)\n",
        "np.random.rand(5)"
      ]
    }
  ],
  "metadata": {
    "anaconda-cloud": {},
    "kernelspec": {
      "display_name": "Python 3",
      "language": "python",
      "name": "python3"
    },
    "language_info": {
      "codemirror_mode": {
        "name": "ipython",
        "version": 3
      },
      "file_extension": ".py",
      "mimetype": "text/x-python",
      "name": "python",
      "nbconvert_exporter": "python",
      "pygments_lexer": "ipython3",
      "version": "3.7.6"
    },
    "colab": {
      "name": " \"ДЗ 7\"NumPy.ipynb\"\"",
      "provenance": [],
      "collapsed_sections": [],
      "include_colab_link": true
    }
  },
  "nbformat": 4,
  "nbformat_minor": 0
}