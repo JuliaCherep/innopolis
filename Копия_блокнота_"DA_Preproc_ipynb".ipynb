{
  "cells": [
    {
      "cell_type": "markdown",
      "metadata": {
        "id": "view-in-github",
        "colab_type": "text"
      },
      "source": [
        "<a href=\"https://colab.research.google.com/github/JuliaCherep/innopolis/blob/Test1/%D0%9A%D0%BE%D0%BF%D0%B8%D1%8F_%D0%B1%D0%BB%D0%BE%D0%BA%D0%BD%D0%BE%D1%82%D0%B0_%22DA_Preproc_ipynb%22.ipynb\" target=\"_parent\"><img src=\"https://colab.research.google.com/assets/colab-badge.svg\" alt=\"Open In Colab\"/></a>"
      ]
    },
    {
      "cell_type": "code",
      "execution_count": null,
      "id": "2ba4347d",
      "metadata": {
        "id": "2ba4347d"
      },
      "outputs": [],
      "source": [
        "import pandas as pd"
      ]
    },
    {
      "cell_type": "code",
      "execution_count": null,
      "id": "29e73fb8",
      "metadata": {
        "id": "29e73fb8"
      },
      "outputs": [],
      "source": [
        "import numpy as np"
      ]
    },
    {
      "cell_type": "code",
      "execution_count": null,
      "id": "0fab0738",
      "metadata": {
        "id": "0fab0738"
      },
      "outputs": [],
      "source": [
        "data = pd.Series(['fdfd', 'fdfddd', np.nan, 'bb', None, 'cc'])"
      ]
    },
    {
      "cell_type": "code",
      "execution_count": null,
      "id": "57c74bd3",
      "metadata": {
        "id": "57c74bd3",
        "outputId": "6b292d78-a393-4c28-be7f-33f77d5babf1"
      },
      "outputs": [
        {
          "data": {
            "text/plain": [
              "0    False\n",
              "1    False\n",
              "2     True\n",
              "3    False\n",
              "4     True\n",
              "5    False\n",
              "dtype: bool"
            ]
          },
          "execution_count": 22,
          "metadata": {},
          "output_type": "execute_result"
        }
      ],
      "source": [
        "data.isnull()"
      ]
    },
    {
      "cell_type": "code",
      "execution_count": null,
      "id": "a6905ab5",
      "metadata": {
        "id": "a6905ab5",
        "outputId": "56dc7a82-18d0-4178-c6c4-8778a671ba71"
      },
      "outputs": [
        {
          "data": {
            "text/plain": [
              "0     True\n",
              "1     True\n",
              "2    False\n",
              "3     True\n",
              "4    False\n",
              "5     True\n",
              "dtype: bool"
            ]
          },
          "execution_count": 23,
          "metadata": {},
          "output_type": "execute_result"
        }
      ],
      "source": [
        "data.notnull()"
      ]
    },
    {
      "cell_type": "code",
      "execution_count": null,
      "id": "8820903a",
      "metadata": {
        "id": "8820903a"
      },
      "outputs": [],
      "source": [
        "# data.dropna(inplace=True)"
      ]
    },
    {
      "cell_type": "code",
      "execution_count": null,
      "id": "3072526c",
      "metadata": {
        "id": "3072526c",
        "outputId": "c2437f75-7395-41fb-fd53-40e6e1184e53"
      },
      "outputs": [
        {
          "data": {
            "text/plain": [
              "0      fdfd\n",
              "1    fdfddd\n",
              "2       NaN\n",
              "3        bb\n",
              "4      None\n",
              "5        cc\n",
              "dtype: object"
            ]
          },
          "execution_count": 25,
          "metadata": {},
          "output_type": "execute_result"
        }
      ],
      "source": [
        "data"
      ]
    },
    {
      "cell_type": "code",
      "execution_count": null,
      "id": "6ee94438",
      "metadata": {
        "id": "6ee94438",
        "outputId": "d5130493-9993-4265-d741-4811525c8805"
      },
      "outputs": [
        {
          "data": {
            "text/plain": [
              "0      fdfd\n",
              "1    fdfddd\n",
              "2       aaa\n",
              "3        bb\n",
              "4       aaa\n",
              "5        cc\n",
              "dtype: object"
            ]
          },
          "execution_count": 26,
          "metadata": {},
          "output_type": "execute_result"
        }
      ],
      "source": [
        "data.fillna(value='aaa')"
      ]
    },
    {
      "cell_type": "code",
      "execution_count": null,
      "id": "32fcd12d",
      "metadata": {
        "id": "32fcd12d",
        "outputId": "9ad376a8-f6eb-4fa1-b3dd-eba6f32e1692"
      },
      "outputs": [
        {
          "data": {
            "text/plain": [
              "0      fdfd\n",
              "1    fdfddd\n",
              "2        bb\n",
              "3        bb\n",
              "4        cc\n",
              "5        cc\n",
              "dtype: object"
            ]
          },
          "execution_count": 27,
          "metadata": {},
          "output_type": "execute_result"
        }
      ],
      "source": [
        "data.fillna(method='backfill')"
      ]
    },
    {
      "cell_type": "code",
      "execution_count": null,
      "id": "9eacfb83",
      "metadata": {
        "id": "9eacfb83"
      },
      "outputs": [],
      "source": [
        "df = pd.DataFrame([['fdfd', 'fdfddd', np.nan, 'bb', None, 'cc'], ['fdfd',np.nan, 'fdfddd', 'bb', None, 'cc'],[ np.nan, 'fdfddd', 'bb', None, None]])"
      ]
    },
    {
      "cell_type": "code",
      "execution_count": null,
      "id": "a237df7b",
      "metadata": {
        "id": "a237df7b",
        "outputId": "131f2314-be69-456c-93b4-9132e0c1aeb9"
      },
      "outputs": [
        {
          "data": {
            "text/html": [
              "<div>\n",
              "<style scoped>\n",
              "    .dataframe tbody tr th:only-of-type {\n",
              "        vertical-align: middle;\n",
              "    }\n",
              "\n",
              "    .dataframe tbody tr th {\n",
              "        vertical-align: top;\n",
              "    }\n",
              "\n",
              "    .dataframe thead th {\n",
              "        text-align: right;\n",
              "    }\n",
              "</style>\n",
              "<table border=\"1\" class=\"dataframe\">\n",
              "  <thead>\n",
              "    <tr style=\"text-align: right;\">\n",
              "      <th></th>\n",
              "      <th>0</th>\n",
              "      <th>1</th>\n",
              "      <th>2</th>\n",
              "      <th>3</th>\n",
              "      <th>4</th>\n",
              "      <th>5</th>\n",
              "    </tr>\n",
              "  </thead>\n",
              "  <tbody>\n",
              "    <tr>\n",
              "      <th>0</th>\n",
              "      <td>fdfd</td>\n",
              "      <td>fdfddd</td>\n",
              "      <td>NaN</td>\n",
              "      <td>bb</td>\n",
              "      <td>None</td>\n",
              "      <td>cc</td>\n",
              "    </tr>\n",
              "    <tr>\n",
              "      <th>1</th>\n",
              "      <td>fdfd</td>\n",
              "      <td>NaN</td>\n",
              "      <td>fdfddd</td>\n",
              "      <td>bb</td>\n",
              "      <td>None</td>\n",
              "      <td>cc</td>\n",
              "    </tr>\n",
              "    <tr>\n",
              "      <th>2</th>\n",
              "      <td>NaN</td>\n",
              "      <td>fdfddd</td>\n",
              "      <td>bb</td>\n",
              "      <td>None</td>\n",
              "      <td>None</td>\n",
              "      <td>None</td>\n",
              "    </tr>\n",
              "  </tbody>\n",
              "</table>\n",
              "</div>"
            ],
            "text/plain": [
              "      0       1       2     3     4     5\n",
              "0  fdfd  fdfddd     NaN    bb  None    cc\n",
              "1  fdfd     NaN  fdfddd    bb  None    cc\n",
              "2   NaN  fdfddd      bb  None  None  None"
            ]
          },
          "execution_count": 52,
          "metadata": {},
          "output_type": "execute_result"
        }
      ],
      "source": [
        "df"
      ]
    },
    {
      "cell_type": "code",
      "execution_count": null,
      "id": "acd24269",
      "metadata": {
        "id": "acd24269",
        "outputId": "b32e1a54-751c-4593-d954-2736490ca48b"
      },
      "outputs": [
        {
          "data": {
            "text/html": [
              "<div>\n",
              "<style scoped>\n",
              "    .dataframe tbody tr th:only-of-type {\n",
              "        vertical-align: middle;\n",
              "    }\n",
              "\n",
              "    .dataframe tbody tr th {\n",
              "        vertical-align: top;\n",
              "    }\n",
              "\n",
              "    .dataframe thead th {\n",
              "        text-align: right;\n",
              "    }\n",
              "</style>\n",
              "<table border=\"1\" class=\"dataframe\">\n",
              "  <thead>\n",
              "    <tr style=\"text-align: right;\">\n",
              "      <th></th>\n",
              "      <th>0</th>\n",
              "      <th>1</th>\n",
              "      <th>2</th>\n",
              "      <th>3</th>\n",
              "      <th>4</th>\n",
              "      <th>5</th>\n",
              "    </tr>\n",
              "  </thead>\n",
              "  <tbody>\n",
              "    <tr>\n",
              "      <th>0</th>\n",
              "      <td>False</td>\n",
              "      <td>False</td>\n",
              "      <td>True</td>\n",
              "      <td>False</td>\n",
              "      <td>True</td>\n",
              "      <td>False</td>\n",
              "    </tr>\n",
              "    <tr>\n",
              "      <th>1</th>\n",
              "      <td>False</td>\n",
              "      <td>True</td>\n",
              "      <td>False</td>\n",
              "      <td>False</td>\n",
              "      <td>True</td>\n",
              "      <td>False</td>\n",
              "    </tr>\n",
              "    <tr>\n",
              "      <th>2</th>\n",
              "      <td>True</td>\n",
              "      <td>False</td>\n",
              "      <td>False</td>\n",
              "      <td>True</td>\n",
              "      <td>True</td>\n",
              "      <td>True</td>\n",
              "    </tr>\n",
              "  </tbody>\n",
              "</table>\n",
              "</div>"
            ],
            "text/plain": [
              "       0      1      2      3     4      5\n",
              "0  False  False   True  False  True  False\n",
              "1  False   True  False  False  True  False\n",
              "2   True  False  False   True  True   True"
            ]
          },
          "execution_count": 53,
          "metadata": {},
          "output_type": "execute_result"
        }
      ],
      "source": [
        "df.isnull()"
      ]
    },
    {
      "cell_type": "code",
      "execution_count": null,
      "id": "ce80477c",
      "metadata": {
        "id": "ce80477c",
        "outputId": "974aa3a5-6610-4ae9-e45e-e0e60bb4b0ea"
      },
      "outputs": [
        {
          "data": {
            "text/html": [
              "<div>\n",
              "<style scoped>\n",
              "    .dataframe tbody tr th:only-of-type {\n",
              "        vertical-align: middle;\n",
              "    }\n",
              "\n",
              "    .dataframe tbody tr th {\n",
              "        vertical-align: top;\n",
              "    }\n",
              "\n",
              "    .dataframe thead th {\n",
              "        text-align: right;\n",
              "    }\n",
              "</style>\n",
              "<table border=\"1\" class=\"dataframe\">\n",
              "  <thead>\n",
              "    <tr style=\"text-align: right;\">\n",
              "      <th></th>\n",
              "      <th>0</th>\n",
              "      <th>1</th>\n",
              "      <th>2</th>\n",
              "      <th>3</th>\n",
              "      <th>4</th>\n",
              "      <th>5</th>\n",
              "    </tr>\n",
              "  </thead>\n",
              "  <tbody>\n",
              "    <tr>\n",
              "      <th>1</th>\n",
              "      <td>fdfd</td>\n",
              "      <td>NaN</td>\n",
              "      <td>fdfddd</td>\n",
              "      <td>bb</td>\n",
              "      <td>None</td>\n",
              "      <td>cc</td>\n",
              "    </tr>\n",
              "    <tr>\n",
              "      <th>2</th>\n",
              "      <td>NaN</td>\n",
              "      <td>fdfddd</td>\n",
              "      <td>bb</td>\n",
              "      <td>None</td>\n",
              "      <td>None</td>\n",
              "      <td>None</td>\n",
              "    </tr>\n",
              "  </tbody>\n",
              "</table>\n",
              "</div>"
            ],
            "text/plain": [
              "      0       1       2     3     4     5\n",
              "1  fdfd     NaN  fdfddd    bb  None    cc\n",
              "2   NaN  fdfddd      bb  None  None  None"
            ]
          },
          "execution_count": 54,
          "metadata": {},
          "output_type": "execute_result"
        }
      ],
      "source": [
        "df[df[2].notnull()]"
      ]
    },
    {
      "cell_type": "code",
      "execution_count": null,
      "id": "3647aada",
      "metadata": {
        "id": "3647aada",
        "outputId": "afb88312-4639-4a6d-977e-e0108dc5b90f"
      },
      "outputs": [
        {
          "data": {
            "text/html": [
              "<div>\n",
              "<style scoped>\n",
              "    .dataframe tbody tr th:only-of-type {\n",
              "        vertical-align: middle;\n",
              "    }\n",
              "\n",
              "    .dataframe tbody tr th {\n",
              "        vertical-align: top;\n",
              "    }\n",
              "\n",
              "    .dataframe thead th {\n",
              "        text-align: right;\n",
              "    }\n",
              "</style>\n",
              "<table border=\"1\" class=\"dataframe\">\n",
              "  <thead>\n",
              "    <tr style=\"text-align: right;\">\n",
              "      <th></th>\n",
              "      <th>0</th>\n",
              "      <th>1</th>\n",
              "      <th>2</th>\n",
              "      <th>3</th>\n",
              "      <th>4</th>\n",
              "      <th>5</th>\n",
              "    </tr>\n",
              "  </thead>\n",
              "  <tbody>\n",
              "    <tr>\n",
              "      <th>0</th>\n",
              "      <td>fdfd</td>\n",
              "      <td>fdfddd</td>\n",
              "      <td>NaN</td>\n",
              "      <td>bb</td>\n",
              "      <td>None</td>\n",
              "      <td>cc</td>\n",
              "    </tr>\n",
              "    <tr>\n",
              "      <th>1</th>\n",
              "      <td>fdfd</td>\n",
              "      <td>NaN</td>\n",
              "      <td>fdfddd</td>\n",
              "      <td>bb</td>\n",
              "      <td>None</td>\n",
              "      <td>cc</td>\n",
              "    </tr>\n",
              "    <tr>\n",
              "      <th>2</th>\n",
              "      <td>NaN</td>\n",
              "      <td>fdfddd</td>\n",
              "      <td>bb</td>\n",
              "      <td>None</td>\n",
              "      <td>None</td>\n",
              "      <td>None</td>\n",
              "    </tr>\n",
              "  </tbody>\n",
              "</table>\n",
              "</div>"
            ],
            "text/plain": [
              "      0       1       2     3     4     5\n",
              "0  fdfd  fdfddd     NaN    bb  None    cc\n",
              "1  fdfd     NaN  fdfddd    bb  None    cc\n",
              "2   NaN  fdfddd      bb  None  None  None"
            ]
          },
          "execution_count": 57,
          "metadata": {},
          "output_type": "execute_result"
        }
      ],
      "source": [
        "df"
      ]
    },
    {
      "cell_type": "code",
      "execution_count": null,
      "id": "204672d6",
      "metadata": {
        "id": "204672d6",
        "outputId": "660b41ff-dcf6-42b5-d3d0-2a0ce511b144"
      },
      "outputs": [
        {
          "data": {
            "text/html": [
              "<div>\n",
              "<style scoped>\n",
              "    .dataframe tbody tr th:only-of-type {\n",
              "        vertical-align: middle;\n",
              "    }\n",
              "\n",
              "    .dataframe tbody tr th {\n",
              "        vertical-align: top;\n",
              "    }\n",
              "\n",
              "    .dataframe thead th {\n",
              "        text-align: right;\n",
              "    }\n",
              "</style>\n",
              "<table border=\"1\" class=\"dataframe\">\n",
              "  <thead>\n",
              "    <tr style=\"text-align: right;\">\n",
              "      <th></th>\n",
              "      <th>0</th>\n",
              "      <th>1</th>\n",
              "      <th>2</th>\n",
              "      <th>3</th>\n",
              "      <th>5</th>\n",
              "    </tr>\n",
              "  </thead>\n",
              "  <tbody>\n",
              "    <tr>\n",
              "      <th>0</th>\n",
              "      <td>fdfd</td>\n",
              "      <td>fdfddd</td>\n",
              "      <td>NaN</td>\n",
              "      <td>bb</td>\n",
              "      <td>cc</td>\n",
              "    </tr>\n",
              "    <tr>\n",
              "      <th>1</th>\n",
              "      <td>fdfd</td>\n",
              "      <td>NaN</td>\n",
              "      <td>fdfddd</td>\n",
              "      <td>bb</td>\n",
              "      <td>cc</td>\n",
              "    </tr>\n",
              "    <tr>\n",
              "      <th>2</th>\n",
              "      <td>NaN</td>\n",
              "      <td>fdfddd</td>\n",
              "      <td>bb</td>\n",
              "      <td>None</td>\n",
              "      <td>None</td>\n",
              "    </tr>\n",
              "  </tbody>\n",
              "</table>\n",
              "</div>"
            ],
            "text/plain": [
              "      0       1       2     3     5\n",
              "0  fdfd  fdfddd     NaN    bb    cc\n",
              "1  fdfd     NaN  fdfddd    bb    cc\n",
              "2   NaN  fdfddd      bb  None  None"
            ]
          },
          "execution_count": 58,
          "metadata": {},
          "output_type": "execute_result"
        }
      ],
      "source": [
        "df.dropna(axis=1, how='all')"
      ]
    },
    {
      "cell_type": "code",
      "execution_count": null,
      "id": "455956b7",
      "metadata": {
        "id": "455956b7",
        "outputId": "42092e42-6587-4e39-977f-b4f46356d62b"
      },
      "outputs": [
        {
          "data": {
            "text/html": [
              "<div>\n",
              "<style scoped>\n",
              "    .dataframe tbody tr th:only-of-type {\n",
              "        vertical-align: middle;\n",
              "    }\n",
              "\n",
              "    .dataframe tbody tr th {\n",
              "        vertical-align: top;\n",
              "    }\n",
              "\n",
              "    .dataframe thead th {\n",
              "        text-align: right;\n",
              "    }\n",
              "</style>\n",
              "<table border=\"1\" class=\"dataframe\">\n",
              "  <thead>\n",
              "    <tr style=\"text-align: right;\">\n",
              "      <th></th>\n",
              "      <th>0</th>\n",
              "      <th>1</th>\n",
              "      <th>2</th>\n",
              "      <th>3</th>\n",
              "      <th>4</th>\n",
              "      <th>5</th>\n",
              "    </tr>\n",
              "  </thead>\n",
              "  <tbody>\n",
              "    <tr>\n",
              "      <th>0</th>\n",
              "      <td>fdfd</td>\n",
              "      <td>fdfddd</td>\n",
              "      <td>NaN</td>\n",
              "      <td>bb</td>\n",
              "      <td>None</td>\n",
              "      <td>cc</td>\n",
              "    </tr>\n",
              "    <tr>\n",
              "      <th>1</th>\n",
              "      <td>fdfd</td>\n",
              "      <td>NaN</td>\n",
              "      <td>fdfddd</td>\n",
              "      <td>bb</td>\n",
              "      <td>None</td>\n",
              "      <td>cc</td>\n",
              "    </tr>\n",
              "    <tr>\n",
              "      <th>2</th>\n",
              "      <td>NaN</td>\n",
              "      <td>fdfddd</td>\n",
              "      <td>bb</td>\n",
              "      <td>None</td>\n",
              "      <td>None</td>\n",
              "      <td>None</td>\n",
              "    </tr>\n",
              "  </tbody>\n",
              "</table>\n",
              "</div>"
            ],
            "text/plain": [
              "      0       1       2     3     4     5\n",
              "0  fdfd  fdfddd     NaN    bb  None    cc\n",
              "1  fdfd     NaN  fdfddd    bb  None    cc\n",
              "2   NaN  fdfddd      bb  None  None  None"
            ]
          },
          "execution_count": 59,
          "metadata": {},
          "output_type": "execute_result"
        }
      ],
      "source": [
        "df.dropna(how='all')"
      ]
    },
    {
      "cell_type": "code",
      "execution_count": null,
      "id": "fb0ff59c",
      "metadata": {
        "id": "fb0ff59c"
      },
      "outputs": [],
      "source": [
        "df.fillna(0.0, inplace=True)"
      ]
    },
    {
      "cell_type": "code",
      "execution_count": null,
      "id": "f366a340",
      "metadata": {
        "id": "f366a340"
      },
      "outputs": [],
      "source": [
        "df[df.notnull()] = 1.2"
      ]
    },
    {
      "cell_type": "code",
      "execution_count": null,
      "id": "a7149640",
      "metadata": {
        "id": "a7149640"
      },
      "outputs": [],
      "source": [
        "df[df<=0.0] = np.nan"
      ]
    },
    {
      "cell_type": "code",
      "execution_count": null,
      "id": "b72f0e97",
      "metadata": {
        "id": "b72f0e97",
        "outputId": "d6f4e9a2-c7ec-43fb-d72f-ec2721e1d629"
      },
      "outputs": [
        {
          "data": {
            "text/html": [
              "<div>\n",
              "<style scoped>\n",
              "    .dataframe tbody tr th:only-of-type {\n",
              "        vertical-align: middle;\n",
              "    }\n",
              "\n",
              "    .dataframe tbody tr th {\n",
              "        vertical-align: top;\n",
              "    }\n",
              "\n",
              "    .dataframe thead th {\n",
              "        text-align: right;\n",
              "    }\n",
              "</style>\n",
              "<table border=\"1\" class=\"dataframe\">\n",
              "  <thead>\n",
              "    <tr style=\"text-align: right;\">\n",
              "      <th></th>\n",
              "      <th>0</th>\n",
              "      <th>1</th>\n",
              "      <th>2</th>\n",
              "      <th>3</th>\n",
              "      <th>4</th>\n",
              "      <th>5</th>\n",
              "    </tr>\n",
              "  </thead>\n",
              "  <tbody>\n",
              "    <tr>\n",
              "      <th>0</th>\n",
              "      <td>1.2</td>\n",
              "      <td>1.2</td>\n",
              "      <td>NaN</td>\n",
              "      <td>1.2</td>\n",
              "      <td>NaN</td>\n",
              "      <td>1.2</td>\n",
              "    </tr>\n",
              "    <tr>\n",
              "      <th>1</th>\n",
              "      <td>1.2</td>\n",
              "      <td>1.2</td>\n",
              "      <td>1.2</td>\n",
              "      <td>1.2</td>\n",
              "      <td>NaN</td>\n",
              "      <td>1.2</td>\n",
              "    </tr>\n",
              "    <tr>\n",
              "      <th>2</th>\n",
              "      <td>NaN</td>\n",
              "      <td>1.2</td>\n",
              "      <td>1.2</td>\n",
              "      <td>NaN</td>\n",
              "      <td>NaN</td>\n",
              "      <td>NaN</td>\n",
              "    </tr>\n",
              "  </tbody>\n",
              "</table>\n",
              "</div>"
            ],
            "text/plain": [
              "     0    1    2    3   4    5\n",
              "0  1.2  1.2  NaN  1.2 NaN  1.2\n",
              "1  1.2  1.2  1.2  1.2 NaN  1.2\n",
              "2  NaN  1.2  1.2  NaN NaN  NaN"
            ]
          },
          "execution_count": 84,
          "metadata": {},
          "output_type": "execute_result"
        }
      ],
      "source": [
        "df"
      ]
    },
    {
      "cell_type": "code",
      "execution_count": null,
      "id": "71f24f90",
      "metadata": {
        "id": "71f24f90",
        "outputId": "0622d748-074b-4e0b-d9eb-b0c1ce1c29a1"
      },
      "outputs": [
        {
          "data": {
            "text/html": [
              "<div>\n",
              "<style scoped>\n",
              "    .dataframe tbody tr th:only-of-type {\n",
              "        vertical-align: middle;\n",
              "    }\n",
              "\n",
              "    .dataframe tbody tr th {\n",
              "        vertical-align: top;\n",
              "    }\n",
              "\n",
              "    .dataframe thead th {\n",
              "        text-align: right;\n",
              "    }\n",
              "</style>\n",
              "<table border=\"1\" class=\"dataframe\">\n",
              "  <thead>\n",
              "    <tr style=\"text-align: right;\">\n",
              "      <th></th>\n",
              "      <th>0</th>\n",
              "      <th>1</th>\n",
              "      <th>2</th>\n",
              "      <th>3</th>\n",
              "      <th>4</th>\n",
              "      <th>5</th>\n",
              "    </tr>\n",
              "  </thead>\n",
              "  <tbody>\n",
              "    <tr>\n",
              "      <th>0</th>\n",
              "      <td>1.2</td>\n",
              "      <td>1.2</td>\n",
              "      <td>1.2</td>\n",
              "      <td>1.2</td>\n",
              "      <td>NaN</td>\n",
              "      <td>1.2</td>\n",
              "    </tr>\n",
              "    <tr>\n",
              "      <th>1</th>\n",
              "      <td>1.2</td>\n",
              "      <td>1.2</td>\n",
              "      <td>1.2</td>\n",
              "      <td>1.2</td>\n",
              "      <td>NaN</td>\n",
              "      <td>1.2</td>\n",
              "    </tr>\n",
              "    <tr>\n",
              "      <th>2</th>\n",
              "      <td>1.2</td>\n",
              "      <td>1.2</td>\n",
              "      <td>1.2</td>\n",
              "      <td>1.2</td>\n",
              "      <td>NaN</td>\n",
              "      <td>1.2</td>\n",
              "    </tr>\n",
              "  </tbody>\n",
              "</table>\n",
              "</div>"
            ],
            "text/plain": [
              "     0    1    2    3   4    5\n",
              "0  1.2  1.2  1.2  1.2 NaN  1.2\n",
              "1  1.2  1.2  1.2  1.2 NaN  1.2\n",
              "2  1.2  1.2  1.2  1.2 NaN  1.2"
            ]
          },
          "execution_count": 83,
          "metadata": {},
          "output_type": "execute_result"
        }
      ],
      "source": [
        "df.fillna(df.mean())"
      ]
    },
    {
      "cell_type": "code",
      "execution_count": null,
      "id": "6a65b06d",
      "metadata": {
        "id": "6a65b06d",
        "outputId": "9a0e000e-55ab-46be-af5e-f7f2b5f7b3b7"
      },
      "outputs": [
        {
          "data": {
            "text/html": [
              "<div>\n",
              "<style scoped>\n",
              "    .dataframe tbody tr th:only-of-type {\n",
              "        vertical-align: middle;\n",
              "    }\n",
              "\n",
              "    .dataframe tbody tr th {\n",
              "        vertical-align: top;\n",
              "    }\n",
              "\n",
              "    .dataframe thead th {\n",
              "        text-align: right;\n",
              "    }\n",
              "</style>\n",
              "<table border=\"1\" class=\"dataframe\">\n",
              "  <thead>\n",
              "    <tr style=\"text-align: right;\">\n",
              "      <th></th>\n",
              "      <th>0</th>\n",
              "      <th>1</th>\n",
              "      <th>2</th>\n",
              "      <th>3</th>\n",
              "      <th>4</th>\n",
              "      <th>5</th>\n",
              "    </tr>\n",
              "  </thead>\n",
              "  <tbody>\n",
              "    <tr>\n",
              "      <th>0</th>\n",
              "      <td>1.2</td>\n",
              "      <td>1.2</td>\n",
              "      <td>NaN</td>\n",
              "      <td>1.2</td>\n",
              "      <td>25.0</td>\n",
              "      <td>1.2</td>\n",
              "    </tr>\n",
              "    <tr>\n",
              "      <th>1</th>\n",
              "      <td>1.2</td>\n",
              "      <td>1.2</td>\n",
              "      <td>1.2</td>\n",
              "      <td>1.2</td>\n",
              "      <td>25.0</td>\n",
              "      <td>1.2</td>\n",
              "    </tr>\n",
              "    <tr>\n",
              "      <th>2</th>\n",
              "      <td>3.0</td>\n",
              "      <td>1.2</td>\n",
              "      <td>1.2</td>\n",
              "      <td>NaN</td>\n",
              "      <td>25.0</td>\n",
              "      <td>NaN</td>\n",
              "    </tr>\n",
              "  </tbody>\n",
              "</table>\n",
              "</div>"
            ],
            "text/plain": [
              "     0    1    2    3     4    5\n",
              "0  1.2  1.2  NaN  1.2  25.0  1.2\n",
              "1  1.2  1.2  1.2  1.2  25.0  1.2\n",
              "2  3.0  1.2  1.2  NaN  25.0  NaN"
            ]
          },
          "execution_count": 86,
          "metadata": {},
          "output_type": "execute_result"
        }
      ],
      "source": [
        "df.fillna({0:3, 4:25})"
      ]
    },
    {
      "cell_type": "code",
      "execution_count": null,
      "id": "067b5dc4",
      "metadata": {
        "id": "067b5dc4"
      },
      "outputs": [],
      "source": [
        "# дубликаты"
      ]
    },
    {
      "cell_type": "code",
      "execution_count": null,
      "id": "b692d707",
      "metadata": {
        "id": "b692d707",
        "outputId": "a03bb373-3e96-4959-8722-f9907ccf4401"
      },
      "outputs": [
        {
          "data": {
            "text/html": [
              "<div>\n",
              "<style scoped>\n",
              "    .dataframe tbody tr th:only-of-type {\n",
              "        vertical-align: middle;\n",
              "    }\n",
              "\n",
              "    .dataframe tbody tr th {\n",
              "        vertical-align: top;\n",
              "    }\n",
              "\n",
              "    .dataframe thead th {\n",
              "        text-align: right;\n",
              "    }\n",
              "</style>\n",
              "<table border=\"1\" class=\"dataframe\">\n",
              "  <thead>\n",
              "    <tr style=\"text-align: right;\">\n",
              "      <th></th>\n",
              "      <th>k1</th>\n",
              "      <th>k2</th>\n",
              "    </tr>\n",
              "  </thead>\n",
              "  <tbody>\n",
              "    <tr>\n",
              "      <th>0</th>\n",
              "      <td>one</td>\n",
              "      <td>1</td>\n",
              "    </tr>\n",
              "    <tr>\n",
              "      <th>1</th>\n",
              "      <td>one</td>\n",
              "      <td>1</td>\n",
              "    </tr>\n",
              "    <tr>\n",
              "      <th>2</th>\n",
              "      <td>one</td>\n",
              "      <td>1</td>\n",
              "    </tr>\n",
              "    <tr>\n",
              "      <th>3</th>\n",
              "      <td>two</td>\n",
              "      <td>2</td>\n",
              "    </tr>\n",
              "    <tr>\n",
              "      <th>4</th>\n",
              "      <td>two</td>\n",
              "      <td>3</td>\n",
              "    </tr>\n",
              "    <tr>\n",
              "      <th>5</th>\n",
              "      <td>two</td>\n",
              "      <td>3</td>\n",
              "    </tr>\n",
              "    <tr>\n",
              "      <th>6</th>\n",
              "      <td>two</td>\n",
              "      <td>4</td>\n",
              "    </tr>\n",
              "  </tbody>\n",
              "</table>\n",
              "</div>"
            ],
            "text/plain": [
              "    k1  k2\n",
              "0  one   1\n",
              "1  one   1\n",
              "2  one   1\n",
              "3  two   2\n",
              "4  two   3\n",
              "5  two   3\n",
              "6  two   4"
            ]
          },
          "execution_count": 93,
          "metadata": {},
          "output_type": "execute_result"
        }
      ],
      "source": [
        "data2 = pd.DataFrame({'k1':['one']*3 + ['two']*4 , 'k2':[1,1,1,2,3,3,4] })\n",
        "data2"
      ]
    },
    {
      "cell_type": "code",
      "execution_count": null,
      "id": "18156f6a",
      "metadata": {
        "id": "18156f6a",
        "outputId": "16a3ebbe-460e-4ac4-f3f7-658c636850b2"
      },
      "outputs": [
        {
          "data": {
            "text/plain": [
              "0    False\n",
              "1     True\n",
              "2     True\n",
              "3    False\n",
              "4    False\n",
              "5     True\n",
              "6    False\n",
              "dtype: bool"
            ]
          },
          "execution_count": 94,
          "metadata": {},
          "output_type": "execute_result"
        }
      ],
      "source": [
        "data2.duplicated()"
      ]
    },
    {
      "cell_type": "code",
      "execution_count": null,
      "id": "5619eadb",
      "metadata": {
        "id": "5619eadb",
        "outputId": "1dee18e7-5beb-4b00-8b6d-5688199b5541"
      },
      "outputs": [
        {
          "data": {
            "text/html": [
              "<div>\n",
              "<style scoped>\n",
              "    .dataframe tbody tr th:only-of-type {\n",
              "        vertical-align: middle;\n",
              "    }\n",
              "\n",
              "    .dataframe tbody tr th {\n",
              "        vertical-align: top;\n",
              "    }\n",
              "\n",
              "    .dataframe thead th {\n",
              "        text-align: right;\n",
              "    }\n",
              "</style>\n",
              "<table border=\"1\" class=\"dataframe\">\n",
              "  <thead>\n",
              "    <tr style=\"text-align: right;\">\n",
              "      <th></th>\n",
              "      <th>k1</th>\n",
              "      <th>k2</th>\n",
              "    </tr>\n",
              "  </thead>\n",
              "  <tbody>\n",
              "    <tr>\n",
              "      <th>0</th>\n",
              "      <td>one</td>\n",
              "      <td>1</td>\n",
              "    </tr>\n",
              "    <tr>\n",
              "      <th>3</th>\n",
              "      <td>two</td>\n",
              "      <td>2</td>\n",
              "    </tr>\n",
              "    <tr>\n",
              "      <th>4</th>\n",
              "      <td>two</td>\n",
              "      <td>3</td>\n",
              "    </tr>\n",
              "    <tr>\n",
              "      <th>6</th>\n",
              "      <td>two</td>\n",
              "      <td>4</td>\n",
              "    </tr>\n",
              "  </tbody>\n",
              "</table>\n",
              "</div>"
            ],
            "text/plain": [
              "    k1  k2\n",
              "0  one   1\n",
              "3  two   2\n",
              "4  two   3\n",
              "6  two   4"
            ]
          },
          "execution_count": 95,
          "metadata": {},
          "output_type": "execute_result"
        }
      ],
      "source": [
        "data2.drop_duplicates()"
      ]
    },
    {
      "cell_type": "code",
      "execution_count": null,
      "id": "561f48a7",
      "metadata": {
        "id": "561f48a7",
        "outputId": "be3e24fd-bebb-479e-ddef-1ce81d7fd80d"
      },
      "outputs": [
        {
          "data": {
            "text/html": [
              "<div>\n",
              "<style scoped>\n",
              "    .dataframe tbody tr th:only-of-type {\n",
              "        vertical-align: middle;\n",
              "    }\n",
              "\n",
              "    .dataframe tbody tr th {\n",
              "        vertical-align: top;\n",
              "    }\n",
              "\n",
              "    .dataframe thead th {\n",
              "        text-align: right;\n",
              "    }\n",
              "</style>\n",
              "<table border=\"1\" class=\"dataframe\">\n",
              "  <thead>\n",
              "    <tr style=\"text-align: right;\">\n",
              "      <th></th>\n",
              "      <th>k1</th>\n",
              "      <th>k2</th>\n",
              "    </tr>\n",
              "  </thead>\n",
              "  <tbody>\n",
              "    <tr>\n",
              "      <th>0</th>\n",
              "      <td>one</td>\n",
              "      <td>1</td>\n",
              "    </tr>\n",
              "    <tr>\n",
              "      <th>3</th>\n",
              "      <td>two</td>\n",
              "      <td>2</td>\n",
              "    </tr>\n",
              "  </tbody>\n",
              "</table>\n",
              "</div>"
            ],
            "text/plain": [
              "    k1  k2\n",
              "0  one   1\n",
              "3  two   2"
            ]
          },
          "execution_count": 97,
          "metadata": {},
          "output_type": "execute_result"
        }
      ],
      "source": [
        "data2.drop_duplicates(['k1'])"
      ]
    },
    {
      "cell_type": "code",
      "execution_count": null,
      "id": "486eec94",
      "metadata": {
        "id": "486eec94",
        "outputId": "d50dbf03-0599-43e9-90df-2ddf994f4bbc"
      },
      "outputs": [
        {
          "data": {
            "text/html": [
              "<div>\n",
              "<style scoped>\n",
              "    .dataframe tbody tr th:only-of-type {\n",
              "        vertical-align: middle;\n",
              "    }\n",
              "\n",
              "    .dataframe tbody tr th {\n",
              "        vertical-align: top;\n",
              "    }\n",
              "\n",
              "    .dataframe thead th {\n",
              "        text-align: right;\n",
              "    }\n",
              "</style>\n",
              "<table border=\"1\" class=\"dataframe\">\n",
              "  <thead>\n",
              "    <tr style=\"text-align: right;\">\n",
              "      <th></th>\n",
              "      <th>k1</th>\n",
              "      <th>k2</th>\n",
              "    </tr>\n",
              "  </thead>\n",
              "  <tbody>\n",
              "    <tr>\n",
              "      <th>0</th>\n",
              "      <td>one</td>\n",
              "      <td>1</td>\n",
              "    </tr>\n",
              "    <tr>\n",
              "      <th>1</th>\n",
              "      <td>one</td>\n",
              "      <td>1</td>\n",
              "    </tr>\n",
              "    <tr>\n",
              "      <th>2</th>\n",
              "      <td>one</td>\n",
              "      <td>1</td>\n",
              "    </tr>\n",
              "    <tr>\n",
              "      <th>3</th>\n",
              "      <td>two</td>\n",
              "      <td>2</td>\n",
              "    </tr>\n",
              "    <tr>\n",
              "      <th>4</th>\n",
              "      <td>two</td>\n",
              "      <td>3</td>\n",
              "    </tr>\n",
              "    <tr>\n",
              "      <th>5</th>\n",
              "      <td>two</td>\n",
              "      <td>3</td>\n",
              "    </tr>\n",
              "    <tr>\n",
              "      <th>6</th>\n",
              "      <td>two</td>\n",
              "      <td>4</td>\n",
              "    </tr>\n",
              "  </tbody>\n",
              "</table>\n",
              "</div>"
            ],
            "text/plain": [
              "    k1  k2\n",
              "0  one   1\n",
              "1  one   1\n",
              "2  one   1\n",
              "3  two   2\n",
              "4  two   3\n",
              "5  two   3\n",
              "6  two   4"
            ]
          },
          "execution_count": 98,
          "metadata": {},
          "output_type": "execute_result"
        }
      ],
      "source": [
        "data2 = pd.DataFrame({'k1':['one']*3 + ['two']*4 , 'k2':[1,1,1,2,3,3,4] })\n",
        "data2"
      ]
    },
    {
      "cell_type": "code",
      "execution_count": null,
      "id": "e3290096",
      "metadata": {
        "id": "e3290096"
      },
      "outputs": [],
      "source": [
        "mapping = {'one':'один', 'two':'два'}"
      ]
    },
    {
      "cell_type": "code",
      "execution_count": null,
      "id": "dd9f7247",
      "metadata": {
        "id": "dd9f7247"
      },
      "outputs": [],
      "source": [
        "data2['russian'] = data2['k1'].map(mapping)"
      ]
    },
    {
      "cell_type": "code",
      "execution_count": null,
      "id": "d97cbebe",
      "metadata": {
        "id": "d97cbebe",
        "outputId": "064e9c00-54a5-4e47-c194-5733446505dd"
      },
      "outputs": [
        {
          "data": {
            "text/html": [
              "<div>\n",
              "<style scoped>\n",
              "    .dataframe tbody tr th:only-of-type {\n",
              "        vertical-align: middle;\n",
              "    }\n",
              "\n",
              "    .dataframe tbody tr th {\n",
              "        vertical-align: top;\n",
              "    }\n",
              "\n",
              "    .dataframe thead th {\n",
              "        text-align: right;\n",
              "    }\n",
              "</style>\n",
              "<table border=\"1\" class=\"dataframe\">\n",
              "  <thead>\n",
              "    <tr style=\"text-align: right;\">\n",
              "      <th></th>\n",
              "      <th>k1</th>\n",
              "      <th>k2</th>\n",
              "      <th>russian</th>\n",
              "    </tr>\n",
              "  </thead>\n",
              "  <tbody>\n",
              "    <tr>\n",
              "      <th>0</th>\n",
              "      <td>one</td>\n",
              "      <td>1</td>\n",
              "      <td>один</td>\n",
              "    </tr>\n",
              "    <tr>\n",
              "      <th>1</th>\n",
              "      <td>one</td>\n",
              "      <td>1</td>\n",
              "      <td>один</td>\n",
              "    </tr>\n",
              "    <tr>\n",
              "      <th>2</th>\n",
              "      <td>one</td>\n",
              "      <td>1</td>\n",
              "      <td>один</td>\n",
              "    </tr>\n",
              "    <tr>\n",
              "      <th>3</th>\n",
              "      <td>two</td>\n",
              "      <td>2</td>\n",
              "      <td>два</td>\n",
              "    </tr>\n",
              "    <tr>\n",
              "      <th>4</th>\n",
              "      <td>two</td>\n",
              "      <td>3</td>\n",
              "      <td>два</td>\n",
              "    </tr>\n",
              "    <tr>\n",
              "      <th>5</th>\n",
              "      <td>two</td>\n",
              "      <td>3</td>\n",
              "      <td>два</td>\n",
              "    </tr>\n",
              "    <tr>\n",
              "      <th>6</th>\n",
              "      <td>two</td>\n",
              "      <td>4</td>\n",
              "      <td>два</td>\n",
              "    </tr>\n",
              "  </tbody>\n",
              "</table>\n",
              "</div>"
            ],
            "text/plain": [
              "    k1  k2 russian\n",
              "0  one   1    один\n",
              "1  one   1    один\n",
              "2  one   1    один\n",
              "3  two   2     два\n",
              "4  two   3     два\n",
              "5  two   3     два\n",
              "6  two   4     два"
            ]
          },
          "execution_count": 102,
          "metadata": {},
          "output_type": "execute_result"
        }
      ],
      "source": [
        "data2"
      ]
    },
    {
      "cell_type": "code",
      "execution_count": null,
      "id": "a0f1109d",
      "metadata": {
        "id": "a0f1109d",
        "outputId": "4bcab8cf-0bf8-4948-cfa3-bd8680e44c47"
      },
      "outputs": [
        {
          "data": {
            "text/html": [
              "<div>\n",
              "<style scoped>\n",
              "    .dataframe tbody tr th:only-of-type {\n",
              "        vertical-align: middle;\n",
              "    }\n",
              "\n",
              "    .dataframe tbody tr th {\n",
              "        vertical-align: top;\n",
              "    }\n",
              "\n",
              "    .dataframe thead th {\n",
              "        text-align: right;\n",
              "    }\n",
              "</style>\n",
              "<table border=\"1\" class=\"dataframe\">\n",
              "  <thead>\n",
              "    <tr style=\"text-align: right;\">\n",
              "      <th></th>\n",
              "      <th>k1</th>\n",
              "      <th>k2</th>\n",
              "      <th>russian</th>\n",
              "    </tr>\n",
              "  </thead>\n",
              "  <tbody>\n",
              "    <tr>\n",
              "      <th>0</th>\n",
              "      <td>one</td>\n",
              "      <td>22</td>\n",
              "      <td>один</td>\n",
              "    </tr>\n",
              "    <tr>\n",
              "      <th>1</th>\n",
              "      <td>one</td>\n",
              "      <td>22</td>\n",
              "      <td>один</td>\n",
              "    </tr>\n",
              "    <tr>\n",
              "      <th>2</th>\n",
              "      <td>one</td>\n",
              "      <td>22</td>\n",
              "      <td>один</td>\n",
              "    </tr>\n",
              "    <tr>\n",
              "      <th>3</th>\n",
              "      <td>two</td>\n",
              "      <td>2</td>\n",
              "      <td>два</td>\n",
              "    </tr>\n",
              "    <tr>\n",
              "      <th>4</th>\n",
              "      <td>two</td>\n",
              "      <td>3</td>\n",
              "      <td>два</td>\n",
              "    </tr>\n",
              "    <tr>\n",
              "      <th>5</th>\n",
              "      <td>two</td>\n",
              "      <td>3</td>\n",
              "      <td>два</td>\n",
              "    </tr>\n",
              "    <tr>\n",
              "      <th>6</th>\n",
              "      <td>two</td>\n",
              "      <td>4</td>\n",
              "      <td>два</td>\n",
              "    </tr>\n",
              "  </tbody>\n",
              "</table>\n",
              "</div>"
            ],
            "text/plain": [
              "    k1  k2 russian\n",
              "0  one  22    один\n",
              "1  one  22    один\n",
              "2  one  22    один\n",
              "3  two   2     два\n",
              "4  two   3     два\n",
              "5  two   3     два\n",
              "6  two   4     два"
            ]
          },
          "execution_count": 103,
          "metadata": {},
          "output_type": "execute_result"
        }
      ],
      "source": [
        "data2.replace(1, 22)"
      ]
    },
    {
      "cell_type": "code",
      "execution_count": null,
      "id": "89719062",
      "metadata": {
        "id": "89719062",
        "outputId": "a34d5100-7a9d-4d1f-b133-cfc430d1c210"
      },
      "outputs": [
        {
          "data": {
            "text/html": [
              "<div>\n",
              "<style scoped>\n",
              "    .dataframe tbody tr th:only-of-type {\n",
              "        vertical-align: middle;\n",
              "    }\n",
              "\n",
              "    .dataframe tbody tr th {\n",
              "        vertical-align: top;\n",
              "    }\n",
              "\n",
              "    .dataframe thead th {\n",
              "        text-align: right;\n",
              "    }\n",
              "</style>\n",
              "<table border=\"1\" class=\"dataframe\">\n",
              "  <thead>\n",
              "    <tr style=\"text-align: right;\">\n",
              "      <th></th>\n",
              "      <th>k1</th>\n",
              "      <th>k2</th>\n",
              "      <th>russian</th>\n",
              "    </tr>\n",
              "  </thead>\n",
              "  <tbody>\n",
              "    <tr>\n",
              "      <th>0</th>\n",
              "      <td>one</td>\n",
              "      <td>1</td>\n",
              "      <td>один</td>\n",
              "    </tr>\n",
              "    <tr>\n",
              "      <th>1</th>\n",
              "      <td>one</td>\n",
              "      <td>1</td>\n",
              "      <td>один</td>\n",
              "    </tr>\n",
              "    <tr>\n",
              "      <th>2</th>\n",
              "      <td>one</td>\n",
              "      <td>1</td>\n",
              "      <td>один</td>\n",
              "    </tr>\n",
              "    <tr>\n",
              "      <th>3</th>\n",
              "      <td>two</td>\n",
              "      <td>2</td>\n",
              "      <td>два</td>\n",
              "    </tr>\n",
              "    <tr>\n",
              "      <th>4</th>\n",
              "      <td>two</td>\n",
              "      <td>3</td>\n",
              "      <td>два</td>\n",
              "    </tr>\n",
              "    <tr>\n",
              "      <th>5</th>\n",
              "      <td>two</td>\n",
              "      <td>3</td>\n",
              "      <td>два</td>\n",
              "    </tr>\n",
              "    <tr>\n",
              "      <th>6</th>\n",
              "      <td>two</td>\n",
              "      <td>4</td>\n",
              "      <td>два</td>\n",
              "    </tr>\n",
              "  </tbody>\n",
              "</table>\n",
              "</div>"
            ],
            "text/plain": [
              "    k1  k2 russian\n",
              "0  one   1    один\n",
              "1  one   1    один\n",
              "2  one   1    один\n",
              "3  two   2     два\n",
              "4  two   3     два\n",
              "5  two   3     два\n",
              "6  two   4     два"
            ]
          },
          "execution_count": 106,
          "metadata": {},
          "output_type": "execute_result"
        }
      ],
      "source": [
        "data2"
      ]
    },
    {
      "cell_type": "code",
      "execution_count": null,
      "id": "eedc0d7e",
      "metadata": {
        "id": "eedc0d7e",
        "outputId": "27fbc273-8cb5-4f50-b60c-a5e5ab5b0a54"
      },
      "outputs": [
        {
          "data": {
            "text/plain": [
              "0     1\n",
              "1     1\n",
              "2     1\n",
              "3     4\n",
              "4     9\n",
              "5     9\n",
              "6    16\n",
              "Name: k2, dtype: int64"
            ]
          },
          "execution_count": 107,
          "metadata": {},
          "output_type": "execute_result"
        }
      ],
      "source": [
        "data2['k2'].apply(lambda x: x*x)"
      ]
    },
    {
      "cell_type": "code",
      "execution_count": null,
      "id": "a9292b00",
      "metadata": {
        "id": "a9292b00",
        "outputId": "e002a5ec-7f0c-4ca4-8a11-82596ed5a1ca"
      },
      "outputs": [
        {
          "data": {
            "text/plain": [
              "0    ОДИН\n",
              "1    ОДИН\n",
              "2    ОДИН\n",
              "3     ДВА\n",
              "4     ДВА\n",
              "5     ДВА\n",
              "6     ДВА\n",
              "Name: russian, dtype: object"
            ]
          },
          "execution_count": 108,
          "metadata": {},
          "output_type": "execute_result"
        }
      ],
      "source": [
        "data2['russian'].apply(lambda x: x.upper())"
      ]
    },
    {
      "cell_type": "code",
      "execution_count": null,
      "id": "e76d7157",
      "metadata": {
        "id": "e76d7157"
      },
      "outputs": [],
      "source": [
        "# нормализация"
      ]
    },
    {
      "cell_type": "code",
      "execution_count": null,
      "id": "1f01b820",
      "metadata": {
        "id": "1f01b820"
      },
      "outputs": [],
      "source": [
        "mu1 = 0\n",
        "mu2 = 5\n",
        "mu3 = 10\n",
        "simga1 = 1\n",
        "simga2 = 12\n",
        "simga3 = 3\n",
        "a = mu1 + np.random.randn(10)*simga1\n",
        "b = mu2 + np.random.randn(10)*simga2\n",
        "c = mu3 + np.random.randn(10)*simga3"
      ]
    },
    {
      "cell_type": "code",
      "execution_count": null,
      "id": "123abdba",
      "metadata": {
        "id": "123abdba"
      },
      "outputs": [],
      "source": [
        "df2 = pd.DataFrame(np.array([a,b,c]))"
      ]
    },
    {
      "cell_type": "code",
      "execution_count": null,
      "id": "808f6c0b",
      "metadata": {
        "id": "808f6c0b",
        "outputId": "66dfb764-b368-43f5-dc11-46042c66dd99"
      },
      "outputs": [
        {
          "data": {
            "text/html": [
              "<div>\n",
              "<style scoped>\n",
              "    .dataframe tbody tr th:only-of-type {\n",
              "        vertical-align: middle;\n",
              "    }\n",
              "\n",
              "    .dataframe tbody tr th {\n",
              "        vertical-align: top;\n",
              "    }\n",
              "\n",
              "    .dataframe thead th {\n",
              "        text-align: right;\n",
              "    }\n",
              "</style>\n",
              "<table border=\"1\" class=\"dataframe\">\n",
              "  <thead>\n",
              "    <tr style=\"text-align: right;\">\n",
              "      <th></th>\n",
              "      <th>0</th>\n",
              "      <th>1</th>\n",
              "      <th>2</th>\n",
              "      <th>3</th>\n",
              "      <th>4</th>\n",
              "      <th>5</th>\n",
              "      <th>6</th>\n",
              "      <th>7</th>\n",
              "      <th>8</th>\n",
              "      <th>9</th>\n",
              "    </tr>\n",
              "  </thead>\n",
              "  <tbody>\n",
              "    <tr>\n",
              "      <th>0</th>\n",
              "      <td>0.918239</td>\n",
              "      <td>1.312760</td>\n",
              "      <td>0.465135</td>\n",
              "      <td>-1.614361</td>\n",
              "      <td>0.768632</td>\n",
              "      <td>0.597258</td>\n",
              "      <td>1.576245</td>\n",
              "      <td>-1.010682</td>\n",
              "      <td>2.002144</td>\n",
              "      <td>-0.993801</td>\n",
              "    </tr>\n",
              "    <tr>\n",
              "      <th>1</th>\n",
              "      <td>16.854377</td>\n",
              "      <td>13.524843</td>\n",
              "      <td>-13.294734</td>\n",
              "      <td>10.294236</td>\n",
              "      <td>1.617329</td>\n",
              "      <td>9.770982</td>\n",
              "      <td>-0.281390</td>\n",
              "      <td>1.889478</td>\n",
              "      <td>5.606778</td>\n",
              "      <td>6.152219</td>\n",
              "    </tr>\n",
              "    <tr>\n",
              "      <th>2</th>\n",
              "      <td>13.179601</td>\n",
              "      <td>10.437897</td>\n",
              "      <td>10.094878</td>\n",
              "      <td>12.836001</td>\n",
              "      <td>10.213128</td>\n",
              "      <td>9.074173</td>\n",
              "      <td>9.622503</td>\n",
              "      <td>13.615310</td>\n",
              "      <td>11.974627</td>\n",
              "      <td>15.113341</td>\n",
              "    </tr>\n",
              "  </tbody>\n",
              "</table>\n",
              "</div>"
            ],
            "text/plain": [
              "           0          1          2          3          4         5         6  \\\n",
              "0   0.918239   1.312760   0.465135  -1.614361   0.768632  0.597258  1.576245   \n",
              "1  16.854377  13.524843 -13.294734  10.294236   1.617329  9.770982 -0.281390   \n",
              "2  13.179601  10.437897  10.094878  12.836001  10.213128  9.074173  9.622503   \n",
              "\n",
              "           7          8          9  \n",
              "0  -1.010682   2.002144  -0.993801  \n",
              "1   1.889478   5.606778   6.152219  \n",
              "2  13.615310  11.974627  15.113341  "
            ]
          },
          "execution_count": 150,
          "metadata": {},
          "output_type": "execute_result"
        }
      ],
      "source": [
        "df2"
      ]
    },
    {
      "cell_type": "code",
      "execution_count": null,
      "id": "0bbdfb64",
      "metadata": {
        "id": "0bbdfb64"
      },
      "outputs": [],
      "source": [
        "mu = df2.mean(axis=1)"
      ]
    },
    {
      "cell_type": "code",
      "execution_count": null,
      "id": "600287b0",
      "metadata": {
        "id": "600287b0"
      },
      "outputs": [],
      "source": [
        "s = df2.std(axis=1)"
      ]
    },
    {
      "cell_type": "code",
      "execution_count": null,
      "id": "f7f8c99d",
      "metadata": {
        "id": "f7f8c99d",
        "outputId": "14201a72-435e-4bcb-a228-4f8fb56ff936"
      },
      "outputs": [
        {
          "data": {
            "text/plain": [
              "0     0.402157\n",
              "1     5.213412\n",
              "2    11.616146\n",
              "dtype: float64"
            ]
          },
          "execution_count": 162,
          "metadata": {},
          "output_type": "execute_result"
        }
      ],
      "source": [
        "mu"
      ]
    },
    {
      "cell_type": "code",
      "execution_count": null,
      "id": "cdb4af85",
      "metadata": {
        "id": "cdb4af85",
        "outputId": "6a0b4cae-4706-49b0-8ea4-2994bd736898"
      },
      "outputs": [
        {
          "data": {
            "text/plain": [
              "0    1.212045\n",
              "1    8.491426\n",
              "2    2.010948\n",
              "dtype: float64"
            ]
          },
          "execution_count": 163,
          "metadata": {},
          "output_type": "execute_result"
        }
      ],
      "source": [
        "s"
      ]
    },
    {
      "cell_type": "code",
      "execution_count": null,
      "id": "7fb8b66b",
      "metadata": {
        "id": "7fb8b66b",
        "outputId": "a793535d-7538-4471-f341-b147488eac1d"
      },
      "outputs": [
        {
          "data": {
            "text/plain": [
              "0    1.370908\n",
              "1    0.978803\n",
              "2   -2.179627\n",
              "3    0.598348\n",
              "4   -0.423496\n",
              "5    0.536726\n",
              "6   -0.647100\n",
              "7   -0.391446\n",
              "8    0.046325\n",
              "9    0.110559\n",
              "Name: 1, dtype: float64"
            ]
          },
          "execution_count": 166,
          "metadata": {},
          "output_type": "execute_result"
        }
      ],
      "source": [
        "(df2.iloc[1]-mu[1])/s[1]"
      ]
    },
    {
      "cell_type": "code",
      "execution_count": null,
      "id": "e5ea4c6e",
      "metadata": {
        "id": "e5ea4c6e"
      },
      "outputs": [],
      "source": [
        ""
      ]
    }
  ],
  "metadata": {
    "kernelspec": {
      "display_name": "Python 3",
      "language": "python",
      "name": "python3"
    },
    "language_info": {
      "codemirror_mode": {
        "name": "ipython",
        "version": 3
      },
      "file_extension": ".py",
      "mimetype": "text/x-python",
      "name": "python",
      "nbconvert_exporter": "python",
      "pygments_lexer": "ipython3",
      "version": "3.7.6"
    },
    "colab": {
      "name": "Копия блокнота \"DA_Preproc.ipynb\"",
      "provenance": [],
      "include_colab_link": true
    }
  },
  "nbformat": 4,
  "nbformat_minor": 5
}