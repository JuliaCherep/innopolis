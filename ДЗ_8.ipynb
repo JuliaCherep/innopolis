{
  "nbformat": 4,
  "nbformat_minor": 0,
  "metadata": {
    "colab": {
      "name": "ДЗ 8.ipynb",
      "provenance": [],
      "collapsed_sections": [],
      "include_colab_link": true
    },
    "kernelspec": {
      "name": "python3",
      "display_name": "Python 3"
    },
    "language_info": {
      "name": "python"
    }
  },
  "cells": [
    {
      "cell_type": "markdown",
      "metadata": {
        "id": "view-in-github",
        "colab_type": "text"
      },
      "source": [
        "<a href=\"https://colab.research.google.com/github/JuliaCherep/innopolis/blob/Test1/%D0%94%D0%97_8.ipynb\" target=\"_parent\"><img src=\"https://colab.research.google.com/assets/colab-badge.svg\" alt=\"Open In Colab\"/></a>"
      ]
    },
    {
      "cell_type": "code",
      "execution_count": 2,
      "metadata": {
        "id": "xyhE4u9OcJ9a"
      },
      "outputs": [],
      "source": [
        "import numpy as np\n"
      ]
    },
    {
      "cell_type": "code",
      "source": [
        "url='https://archive.ics.uci.edu/ml/machine-learning-databases/iris/iris.data'\n",
        "masiv_i = np.genfromtxt(url, delimiter=',', dtype='object')\n",
        "masiv_i[:]\n",
        "\n"
      ],
      "metadata": {
        "id": "3pUXm-sBc5Jx",
        "colab": {
          "base_uri": "https://localhost:8080/"
        },
        "outputId": "f2436c3c-4435-4ace-d42e-d205497b2a32"
      },
      "execution_count": 27,
      "outputs": [
        {
          "output_type": "execute_result",
          "data": {
            "text/plain": [
              "array([[b'5.1', b'3.5', b'1.4', b'0.2', b'Iris-setosa'],\n",
              "       [b'4.9', b'3.0', b'1.4', b'0.2', b'Iris-setosa'],\n",
              "       [b'4.7', b'3.2', b'1.3', b'0.2', b'Iris-setosa'],\n",
              "       [b'4.6', b'3.1', b'1.5', b'0.2', b'Iris-setosa'],\n",
              "       [b'5.0', b'3.6', b'1.4', b'0.2', b'Iris-setosa'],\n",
              "       [b'5.4', b'3.9', b'1.7', b'0.4', b'Iris-setosa'],\n",
              "       [b'4.6', b'3.4', b'1.4', b'0.3', b'Iris-setosa'],\n",
              "       [b'5.0', b'3.4', b'1.5', b'0.2', b'Iris-setosa'],\n",
              "       [b'4.4', b'2.9', b'1.4', b'0.2', b'Iris-setosa'],\n",
              "       [b'4.9', b'3.1', b'1.5', b'0.1', b'Iris-setosa'],\n",
              "       [b'5.4', b'3.7', b'1.5', b'0.2', b'Iris-setosa'],\n",
              "       [b'4.8', b'3.4', b'1.6', b'0.2', b'Iris-setosa'],\n",
              "       [b'4.8', b'3.0', b'1.4', b'0.1', b'Iris-setosa'],\n",
              "       [b'4.3', b'3.0', b'1.1', b'0.1', b'Iris-setosa'],\n",
              "       [b'5.8', b'4.0', b'1.2', b'0.2', b'Iris-setosa'],\n",
              "       [b'5.7', b'4.4', b'1.5', b'0.4', b'Iris-setosa'],\n",
              "       [b'5.4', b'3.9', b'1.3', b'0.4', b'Iris-setosa'],\n",
              "       [b'5.1', b'3.5', b'1.4', b'0.3', b'Iris-setosa'],\n",
              "       [b'5.7', b'3.8', b'1.7', b'0.3', b'Iris-setosa'],\n",
              "       [b'5.1', b'3.8', b'1.5', b'0.3', b'Iris-setosa'],\n",
              "       [b'5.4', b'3.4', b'1.7', b'0.2', b'Iris-setosa'],\n",
              "       [b'5.1', b'3.7', b'1.5', b'0.4', b'Iris-setosa'],\n",
              "       [b'4.6', b'3.6', b'1.0', b'0.2', b'Iris-setosa'],\n",
              "       [b'5.1', b'3.3', b'1.7', b'0.5', b'Iris-setosa'],\n",
              "       [b'4.8', b'3.4', b'1.9', b'0.2', b'Iris-setosa'],\n",
              "       [b'5.0', b'3.0', b'1.6', b'0.2', b'Iris-setosa'],\n",
              "       [b'5.0', b'3.4', b'1.6', b'0.4', b'Iris-setosa'],\n",
              "       [b'5.2', b'3.5', b'1.5', b'0.2', b'Iris-setosa'],\n",
              "       [b'5.2', b'3.4', b'1.4', b'0.2', b'Iris-setosa'],\n",
              "       [b'4.7', b'3.2', b'1.6', b'0.2', b'Iris-setosa'],\n",
              "       [b'4.8', b'3.1', b'1.6', b'0.2', b'Iris-setosa'],\n",
              "       [b'5.4', b'3.4', b'1.5', b'0.4', b'Iris-setosa'],\n",
              "       [b'5.2', b'4.1', b'1.5', b'0.1', b'Iris-setosa'],\n",
              "       [b'5.5', b'4.2', b'1.4', b'0.2', b'Iris-setosa'],\n",
              "       [b'4.9', b'3.1', b'1.5', b'0.1', b'Iris-setosa'],\n",
              "       [b'5.0', b'3.2', b'1.2', b'0.2', b'Iris-setosa'],\n",
              "       [b'5.5', b'3.5', b'1.3', b'0.2', b'Iris-setosa'],\n",
              "       [b'4.9', b'3.1', b'1.5', b'0.1', b'Iris-setosa'],\n",
              "       [b'4.4', b'3.0', b'1.3', b'0.2', b'Iris-setosa'],\n",
              "       [b'5.1', b'3.4', b'1.5', b'0.2', b'Iris-setosa'],\n",
              "       [b'5.0', b'3.5', b'1.3', b'0.3', b'Iris-setosa'],\n",
              "       [b'4.5', b'2.3', b'1.3', b'0.3', b'Iris-setosa'],\n",
              "       [b'4.4', b'3.2', b'1.3', b'0.2', b'Iris-setosa'],\n",
              "       [b'5.0', b'3.5', b'1.6', b'0.6', b'Iris-setosa'],\n",
              "       [b'5.1', b'3.8', b'1.9', b'0.4', b'Iris-setosa'],\n",
              "       [b'4.8', b'3.0', b'1.4', b'0.3', b'Iris-setosa'],\n",
              "       [b'5.1', b'3.8', b'1.6', b'0.2', b'Iris-setosa'],\n",
              "       [b'4.6', b'3.2', b'1.4', b'0.2', b'Iris-setosa'],\n",
              "       [b'5.3', b'3.7', b'1.5', b'0.2', b'Iris-setosa'],\n",
              "       [b'5.0', b'3.3', b'1.4', b'0.2', b'Iris-setosa'],\n",
              "       [b'7.0', b'3.2', b'4.7', b'1.4', b'Iris-versicolor'],\n",
              "       [b'6.4', b'3.2', b'4.5', b'1.5', b'Iris-versicolor'],\n",
              "       [b'6.9', b'3.1', b'4.9', b'1.5', b'Iris-versicolor'],\n",
              "       [b'5.5', b'2.3', b'4.0', b'1.3', b'Iris-versicolor'],\n",
              "       [b'6.5', b'2.8', b'4.6', b'1.5', b'Iris-versicolor'],\n",
              "       [b'5.7', b'2.8', b'4.5', b'1.3', b'Iris-versicolor'],\n",
              "       [b'6.3', b'3.3', b'4.7', b'1.6', b'Iris-versicolor'],\n",
              "       [b'4.9', b'2.4', b'3.3', b'1.0', b'Iris-versicolor'],\n",
              "       [b'6.6', b'2.9', b'4.6', b'1.3', b'Iris-versicolor'],\n",
              "       [b'5.2', b'2.7', b'3.9', b'1.4', b'Iris-versicolor'],\n",
              "       [b'5.0', b'2.0', b'3.5', b'1.0', b'Iris-versicolor'],\n",
              "       [b'5.9', b'3.0', b'4.2', b'1.5', b'Iris-versicolor'],\n",
              "       [b'6.0', b'2.2', b'4.0', b'1.0', b'Iris-versicolor'],\n",
              "       [b'6.1', b'2.9', b'4.7', b'1.4', b'Iris-versicolor'],\n",
              "       [b'5.6', b'2.9', b'3.6', b'1.3', b'Iris-versicolor'],\n",
              "       [b'6.7', b'3.1', b'4.4', b'1.4', b'Iris-versicolor'],\n",
              "       [b'5.6', b'3.0', b'4.5', b'1.5', b'Iris-versicolor'],\n",
              "       [b'5.8', b'2.7', b'4.1', b'1.0', b'Iris-versicolor'],\n",
              "       [b'6.2', b'2.2', b'4.5', b'1.5', b'Iris-versicolor'],\n",
              "       [b'5.6', b'2.5', b'3.9', b'1.1', b'Iris-versicolor'],\n",
              "       [b'5.9', b'3.2', b'4.8', b'1.8', b'Iris-versicolor'],\n",
              "       [b'6.1', b'2.8', b'4.0', b'1.3', b'Iris-versicolor'],\n",
              "       [b'6.3', b'2.5', b'4.9', b'1.5', b'Iris-versicolor'],\n",
              "       [b'6.1', b'2.8', b'4.7', b'1.2', b'Iris-versicolor'],\n",
              "       [b'6.4', b'2.9', b'4.3', b'1.3', b'Iris-versicolor'],\n",
              "       [b'6.6', b'3.0', b'4.4', b'1.4', b'Iris-versicolor'],\n",
              "       [b'6.8', b'2.8', b'4.8', b'1.4', b'Iris-versicolor'],\n",
              "       [b'6.7', b'3.0', b'5.0', b'1.7', b'Iris-versicolor'],\n",
              "       [b'6.0', b'2.9', b'4.5', b'1.5', b'Iris-versicolor'],\n",
              "       [b'5.7', b'2.6', b'3.5', b'1.0', b'Iris-versicolor'],\n",
              "       [b'5.5', b'2.4', b'3.8', b'1.1', b'Iris-versicolor'],\n",
              "       [b'5.5', b'2.4', b'3.7', b'1.0', b'Iris-versicolor'],\n",
              "       [b'5.8', b'2.7', b'3.9', b'1.2', b'Iris-versicolor'],\n",
              "       [b'6.0', b'2.7', b'5.1', b'1.6', b'Iris-versicolor'],\n",
              "       [b'5.4', b'3.0', b'4.5', b'1.5', b'Iris-versicolor'],\n",
              "       [b'6.0', b'3.4', b'4.5', b'1.6', b'Iris-versicolor'],\n",
              "       [b'6.7', b'3.1', b'4.7', b'1.5', b'Iris-versicolor'],\n",
              "       [b'6.3', b'2.3', b'4.4', b'1.3', b'Iris-versicolor'],\n",
              "       [b'5.6', b'3.0', b'4.1', b'1.3', b'Iris-versicolor'],\n",
              "       [b'5.5', b'2.5', b'4.0', b'1.3', b'Iris-versicolor'],\n",
              "       [b'5.5', b'2.6', b'4.4', b'1.2', b'Iris-versicolor'],\n",
              "       [b'6.1', b'3.0', b'4.6', b'1.4', b'Iris-versicolor'],\n",
              "       [b'5.8', b'2.6', b'4.0', b'1.2', b'Iris-versicolor'],\n",
              "       [b'5.0', b'2.3', b'3.3', b'1.0', b'Iris-versicolor'],\n",
              "       [b'5.6', b'2.7', b'4.2', b'1.3', b'Iris-versicolor'],\n",
              "       [b'5.7', b'3.0', b'4.2', b'1.2', b'Iris-versicolor'],\n",
              "       [b'5.7', b'2.9', b'4.2', b'1.3', b'Iris-versicolor'],\n",
              "       [b'6.2', b'2.9', b'4.3', b'1.3', b'Iris-versicolor'],\n",
              "       [b'5.1', b'2.5', b'3.0', b'1.1', b'Iris-versicolor'],\n",
              "       [b'5.7', b'2.8', b'4.1', b'1.3', b'Iris-versicolor'],\n",
              "       [b'6.3', b'3.3', b'6.0', b'2.5', b'Iris-virginica'],\n",
              "       [b'5.8', b'2.7', b'5.1', b'1.9', b'Iris-virginica'],\n",
              "       [b'7.1', b'3.0', b'5.9', b'2.1', b'Iris-virginica'],\n",
              "       [b'6.3', b'2.9', b'5.6', b'1.8', b'Iris-virginica'],\n",
              "       [b'6.5', b'3.0', b'5.8', b'2.2', b'Iris-virginica'],\n",
              "       [b'7.6', b'3.0', b'6.6', b'2.1', b'Iris-virginica'],\n",
              "       [b'4.9', b'2.5', b'4.5', b'1.7', b'Iris-virginica'],\n",
              "       [b'7.3', b'2.9', b'6.3', b'1.8', b'Iris-virginica'],\n",
              "       [b'6.7', b'2.5', b'5.8', b'1.8', b'Iris-virginica'],\n",
              "       [b'7.2', b'3.6', b'6.1', b'2.5', b'Iris-virginica'],\n",
              "       [b'6.5', b'3.2', b'5.1', b'2.0', b'Iris-virginica'],\n",
              "       [b'6.4', b'2.7', b'5.3', b'1.9', b'Iris-virginica'],\n",
              "       [b'6.8', b'3.0', b'5.5', b'2.1', b'Iris-virginica'],\n",
              "       [b'5.7', b'2.5', b'5.0', b'2.0', b'Iris-virginica'],\n",
              "       [b'5.8', b'2.8', b'5.1', b'2.4', b'Iris-virginica'],\n",
              "       [b'6.4', b'3.2', b'5.3', b'2.3', b'Iris-virginica'],\n",
              "       [b'6.5', b'3.0', b'5.5', b'1.8', b'Iris-virginica'],\n",
              "       [b'7.7', b'3.8', b'6.7', b'2.2', b'Iris-virginica'],\n",
              "       [b'7.7', b'2.6', b'6.9', b'2.3', b'Iris-virginica'],\n",
              "       [b'6.0', b'2.2', b'5.0', b'1.5', b'Iris-virginica'],\n",
              "       [b'6.9', b'3.2', b'5.7', b'2.3', b'Iris-virginica'],\n",
              "       [b'5.6', b'2.8', b'4.9', b'2.0', b'Iris-virginica'],\n",
              "       [b'7.7', b'2.8', b'6.7', b'2.0', b'Iris-virginica'],\n",
              "       [b'6.3', b'2.7', b'4.9', b'1.8', b'Iris-virginica'],\n",
              "       [b'6.7', b'3.3', b'5.7', b'2.1', b'Iris-virginica'],\n",
              "       [b'7.2', b'3.2', b'6.0', b'1.8', b'Iris-virginica'],\n",
              "       [b'6.2', b'2.8', b'4.8', b'1.8', b'Iris-virginica'],\n",
              "       [b'6.1', b'3.0', b'4.9', b'1.8', b'Iris-virginica'],\n",
              "       [b'6.4', b'2.8', b'5.6', b'2.1', b'Iris-virginica'],\n",
              "       [b'7.2', b'3.0', b'5.8', b'1.6', b'Iris-virginica'],\n",
              "       [b'7.4', b'2.8', b'6.1', b'1.9', b'Iris-virginica'],\n",
              "       [b'7.9', b'3.8', b'6.4', b'2.0', b'Iris-virginica'],\n",
              "       [b'6.4', b'2.8', b'5.6', b'2.2', b'Iris-virginica'],\n",
              "       [b'6.3', b'2.8', b'5.1', b'1.5', b'Iris-virginica'],\n",
              "       [b'6.1', b'2.6', b'5.6', b'1.4', b'Iris-virginica'],\n",
              "       [b'7.7', b'3.0', b'6.1', b'2.3', b'Iris-virginica'],\n",
              "       [b'6.3', b'3.4', b'5.6', b'2.4', b'Iris-virginica'],\n",
              "       [b'6.4', b'3.1', b'5.5', b'1.8', b'Iris-virginica'],\n",
              "       [b'6.0', b'3.0', b'4.8', b'1.8', b'Iris-virginica'],\n",
              "       [b'6.9', b'3.1', b'5.4', b'2.1', b'Iris-virginica'],\n",
              "       [b'6.7', b'3.1', b'5.6', b'2.4', b'Iris-virginica'],\n",
              "       [b'6.9', b'3.1', b'5.1', b'2.3', b'Iris-virginica'],\n",
              "       [b'5.8', b'2.7', b'5.1', b'1.9', b'Iris-virginica'],\n",
              "       [b'6.8', b'3.2', b'5.9', b'2.3', b'Iris-virginica'],\n",
              "       [b'6.7', b'3.3', b'5.7', b'2.5', b'Iris-virginica'],\n",
              "       [b'6.7', b'3.0', b'5.2', b'2.3', b'Iris-virginica'],\n",
              "       [b'6.3', b'2.5', b'5.0', b'1.9', b'Iris-virginica'],\n",
              "       [b'6.5', b'3.0', b'5.2', b'2.0', b'Iris-virginica'],\n",
              "       [b'6.2', b'3.4', b'5.4', b'2.3', b'Iris-virginica'],\n",
              "       [b'5.9', b'3.0', b'5.1', b'1.8', b'Iris-virginica']], dtype=object)"
            ]
          },
          "metadata": {},
          "execution_count": 27
        }
      ]
    },
    {
      "cell_type": "code",
      "source": [
        "masiv_i.shape"
      ],
      "metadata": {
        "colab": {
          "base_uri": "https://localhost:8080/"
        },
        "id": "_xEJATRpe7QG",
        "outputId": "5bad8a2a-c7e5-4b0e-c03f-e65254ff328f"
      },
      "execution_count": 26,
      "outputs": [
        {
          "output_type": "execute_result",
          "data": {
            "text/plain": [
              "(150, 5)"
            ]
          },
          "metadata": {},
          "execution_count": 26
        }
      ]
    },
    {
      "cell_type": "code",
      "source": [
        "#преобразование в список\n",
        "\n",
        "mas_num=[[np.genfromtxt(url, delimiter=',', dtype=float, usecols=[i])] for i in range(4)]\n",
        "print( mas_num)\n"
      ],
      "metadata": {
        "id": "rAzgO8A2ycK0",
        "colab": {
          "base_uri": "https://localhost:8080/"
        },
        "outputId": "83d31814-4986-4614-c38b-51c2f6a4ee20"
      },
      "execution_count": 11,
      "outputs": [
        {
          "output_type": "stream",
          "name": "stdout",
          "text": [
            "[[array([5.1, 4.9, 4.7, 4.6, 5. , 5.4, 4.6, 5. , 4.4, 4.9, 5.4, 4.8, 4.8,\n",
            "       4.3, 5.8, 5.7, 5.4, 5.1, 5.7, 5.1, 5.4, 5.1, 4.6, 5.1, 4.8, 5. ,\n",
            "       5. , 5.2, 5.2, 4.7, 4.8, 5.4, 5.2, 5.5, 4.9, 5. , 5.5, 4.9, 4.4,\n",
            "       5.1, 5. , 4.5, 4.4, 5. , 5.1, 4.8, 5.1, 4.6, 5.3, 5. , 7. , 6.4,\n",
            "       6.9, 5.5, 6.5, 5.7, 6.3, 4.9, 6.6, 5.2, 5. , 5.9, 6. , 6.1, 5.6,\n",
            "       6.7, 5.6, 5.8, 6.2, 5.6, 5.9, 6.1, 6.3, 6.1, 6.4, 6.6, 6.8, 6.7,\n",
            "       6. , 5.7, 5.5, 5.5, 5.8, 6. , 5.4, 6. , 6.7, 6.3, 5.6, 5.5, 5.5,\n",
            "       6.1, 5.8, 5. , 5.6, 5.7, 5.7, 6.2, 5.1, 5.7, 6.3, 5.8, 7.1, 6.3,\n",
            "       6.5, 7.6, 4.9, 7.3, 6.7, 7.2, 6.5, 6.4, 6.8, 5.7, 5.8, 6.4, 6.5,\n",
            "       7.7, 7.7, 6. , 6.9, 5.6, 7.7, 6.3, 6.7, 7.2, 6.2, 6.1, 6.4, 7.2,\n",
            "       7.4, 7.9, 6.4, 6.3, 6.1, 7.7, 6.3, 6.4, 6. , 6.9, 6.7, 6.9, 5.8,\n",
            "       6.8, 6.7, 6.7, 6.3, 6.5, 6.2, 5.9])], [array([3.5, 3. , 3.2, 3.1, 3.6, 3.9, 3.4, 3.4, 2.9, 3.1, 3.7, 3.4, 3. ,\n",
            "       3. , 4. , 4.4, 3.9, 3.5, 3.8, 3.8, 3.4, 3.7, 3.6, 3.3, 3.4, 3. ,\n",
            "       3.4, 3.5, 3.4, 3.2, 3.1, 3.4, 4.1, 4.2, 3.1, 3.2, 3.5, 3.1, 3. ,\n",
            "       3.4, 3.5, 2.3, 3.2, 3.5, 3.8, 3. , 3.8, 3.2, 3.7, 3.3, 3.2, 3.2,\n",
            "       3.1, 2.3, 2.8, 2.8, 3.3, 2.4, 2.9, 2.7, 2. , 3. , 2.2, 2.9, 2.9,\n",
            "       3.1, 3. , 2.7, 2.2, 2.5, 3.2, 2.8, 2.5, 2.8, 2.9, 3. , 2.8, 3. ,\n",
            "       2.9, 2.6, 2.4, 2.4, 2.7, 2.7, 3. , 3.4, 3.1, 2.3, 3. , 2.5, 2.6,\n",
            "       3. , 2.6, 2.3, 2.7, 3. , 2.9, 2.9, 2.5, 2.8, 3.3, 2.7, 3. , 2.9,\n",
            "       3. , 3. , 2.5, 2.9, 2.5, 3.6, 3.2, 2.7, 3. , 2.5, 2.8, 3.2, 3. ,\n",
            "       3.8, 2.6, 2.2, 3.2, 2.8, 2.8, 2.7, 3.3, 3.2, 2.8, 3. , 2.8, 3. ,\n",
            "       2.8, 3.8, 2.8, 2.8, 2.6, 3. , 3.4, 3.1, 3. , 3.1, 3.1, 3.1, 2.7,\n",
            "       3.2, 3.3, 3. , 2.5, 3. , 3.4, 3. ])], [array([1.4, 1.4, 1.3, 1.5, 1.4, 1.7, 1.4, 1.5, 1.4, 1.5, 1.5, 1.6, 1.4,\n",
            "       1.1, 1.2, 1.5, 1.3, 1.4, 1.7, 1.5, 1.7, 1.5, 1. , 1.7, 1.9, 1.6,\n",
            "       1.6, 1.5, 1.4, 1.6, 1.6, 1.5, 1.5, 1.4, 1.5, 1.2, 1.3, 1.5, 1.3,\n",
            "       1.5, 1.3, 1.3, 1.3, 1.6, 1.9, 1.4, 1.6, 1.4, 1.5, 1.4, 4.7, 4.5,\n",
            "       4.9, 4. , 4.6, 4.5, 4.7, 3.3, 4.6, 3.9, 3.5, 4.2, 4. , 4.7, 3.6,\n",
            "       4.4, 4.5, 4.1, 4.5, 3.9, 4.8, 4. , 4.9, 4.7, 4.3, 4.4, 4.8, 5. ,\n",
            "       4.5, 3.5, 3.8, 3.7, 3.9, 5.1, 4.5, 4.5, 4.7, 4.4, 4.1, 4. , 4.4,\n",
            "       4.6, 4. , 3.3, 4.2, 4.2, 4.2, 4.3, 3. , 4.1, 6. , 5.1, 5.9, 5.6,\n",
            "       5.8, 6.6, 4.5, 6.3, 5.8, 6.1, 5.1, 5.3, 5.5, 5. , 5.1, 5.3, 5.5,\n",
            "       6.7, 6.9, 5. , 5.7, 4.9, 6.7, 4.9, 5.7, 6. , 4.8, 4.9, 5.6, 5.8,\n",
            "       6.1, 6.4, 5.6, 5.1, 5.6, 6.1, 5.6, 5.5, 4.8, 5.4, 5.6, 5.1, 5.1,\n",
            "       5.9, 5.7, 5.2, 5. , 5.2, 5.4, 5.1])], [array([0.2, 0.2, 0.2, 0.2, 0.2, 0.4, 0.3, 0.2, 0.2, 0.1, 0.2, 0.2, 0.1,\n",
            "       0.1, 0.2, 0.4, 0.4, 0.3, 0.3, 0.3, 0.2, 0.4, 0.2, 0.5, 0.2, 0.2,\n",
            "       0.4, 0.2, 0.2, 0.2, 0.2, 0.4, 0.1, 0.2, 0.1, 0.2, 0.2, 0.1, 0.2,\n",
            "       0.2, 0.3, 0.3, 0.2, 0.6, 0.4, 0.3, 0.2, 0.2, 0.2, 0.2, 1.4, 1.5,\n",
            "       1.5, 1.3, 1.5, 1.3, 1.6, 1. , 1.3, 1.4, 1. , 1.5, 1. , 1.4, 1.3,\n",
            "       1.4, 1.5, 1. , 1.5, 1.1, 1.8, 1.3, 1.5, 1.2, 1.3, 1.4, 1.4, 1.7,\n",
            "       1.5, 1. , 1.1, 1. , 1.2, 1.6, 1.5, 1.6, 1.5, 1.3, 1.3, 1.3, 1.2,\n",
            "       1.4, 1.2, 1. , 1.3, 1.2, 1.3, 1.3, 1.1, 1.3, 2.5, 1.9, 2.1, 1.8,\n",
            "       2.2, 2.1, 1.7, 1.8, 1.8, 2.5, 2. , 1.9, 2.1, 2. , 2.4, 2.3, 1.8,\n",
            "       2.2, 2.3, 1.5, 2.3, 2. , 2. , 1.8, 2.1, 1.8, 1.8, 1.8, 2.1, 1.6,\n",
            "       1.9, 2. , 2.2, 1.5, 1.4, 2.3, 2.4, 1.8, 1.8, 2.1, 2.4, 2.3, 1.9,\n",
            "       2.3, 2.5, 2.3, 1.9, 2. , 2.3, 1.8])]]\n"
          ]
        }
      ]
    },
    {
      "cell_type": "code",
      "source": [
        "mas_num[0]"
      ],
      "metadata": {
        "colab": {
          "base_uri": "https://localhost:8080/"
        },
        "id": "HXFsDiUk1otK",
        "outputId": "43033dfe-38b9-4e91-f87c-98abe2957e15"
      },
      "execution_count": null,
      "outputs": [
        {
          "output_type": "execute_result",
          "data": {
            "text/plain": [
              "[array([5.1, 4.9, 4.7, 4.6, 5. , 5.4, 4.6, 5. , 4.4, 4.9, 5.4, 4.8, 4.8,\n",
              "        4.3, 5.8, 5.7, 5.4, 5.1, 5.7, 5.1, 5.4, 5.1, 4.6, 5.1, 4.8, 5. ,\n",
              "        5. , 5.2, 5.2, 4.7, 4.8, 5.4, 5.2, 5.5, 4.9, 5. , 5.5, 4.9, 4.4,\n",
              "        5.1, 5. , 4.5, 4.4, 5. , 5.1, 4.8, 5.1, 4.6, 5.3, 5. , 7. , 6.4,\n",
              "        6.9, 5.5, 6.5, 5.7, 6.3, 4.9, 6.6, 5.2, 5. , 5.9, 6. , 6.1, 5.6,\n",
              "        6.7, 5.6, 5.8, 6.2, 5.6, 5.9, 6.1, 6.3, 6.1, 6.4, 6.6, 6.8, 6.7,\n",
              "        6. , 5.7, 5.5, 5.5, 5.8, 6. , 5.4, 6. , 6.7, 6.3, 5.6, 5.5, 5.5,\n",
              "        6.1, 5.8, 5. , 5.6, 5.7, 5.7, 6.2, 5.1, 5.7, 6.3, 5.8, 7.1, 6.3,\n",
              "        6.5, 7.6, 4.9, 7.3, 6.7, 7.2, 6.5, 6.4, 6.8, 5.7, 5.8, 6.4, 6.5,\n",
              "        7.7, 7.7, 6. , 6.9, 5.6, 7.7, 6.3, 6.7, 7.2, 6.2, 6.1, 6.4, 7.2,\n",
              "        7.4, 7.9, 6.4, 6.3, 6.1, 7.7, 6.3, 6.4, 6. , 6.9, 6.7, 6.9, 5.8,\n",
              "        6.8, 6.7, 6.7, 6.3, 6.5, 6.2, 5.9])]"
            ]
          },
          "metadata": {},
          "execution_count": 5
        }
      ]
    },
    {
      "cell_type": "code",
      "source": [
        "len(mas_num)"
      ],
      "metadata": {
        "colab": {
          "base_uri": "https://localhost:8080/"
        },
        "id": "A89OkKrXkRvd",
        "outputId": "6f87b3cf-35fd-41ff-f79f-8baf46317e80"
      },
      "execution_count": 12,
      "outputs": [
        {
          "output_type": "execute_result",
          "data": {
            "text/plain": [
              "4"
            ]
          },
          "metadata": {},
          "execution_count": 12
        }
      ]
    },
    {
      "cell_type": "code",
      "source": [
        "for i in range(len(mas_num)):\n",
        "  print(f'min для атрибута {i} = ' , np.min(mas_num[i]))\n",
        "  print(f'max для атрибута {i} = ' , np.max(mas_num[i]))\n",
        "  print(f'среднее для атрибута {i} = ' , np.mean(mas_num[i]))\n",
        "  print(f'медиана для атрибута {i} = ' , np.median(mas_num[i]))\n",
        "  print(f'персентиль 25 для атрибута {i} = ' , np.percentile(mas_num[i],25))\n",
        "  print(f'персентиль 75 для атрибута {i} = ' , np.percentile(mas_num[i],75))\n",
        "  print('\\n')\n"
      ],
      "metadata": {
        "colab": {
          "base_uri": "https://localhost:8080/"
        },
        "id": "btF9vUQD2R6x",
        "outputId": "d34a8e0f-1c85-4752-8603-94e7e5e90312"
      },
      "execution_count": 13,
      "outputs": [
        {
          "output_type": "stream",
          "name": "stdout",
          "text": [
            "min для атрибута 0 =  4.3\n",
            "max для атрибута 0 =  7.9\n",
            "среднее для атрибута 0 =  5.843333333333334\n",
            "медиана для атрибута 0 =  5.8\n",
            "персентиль 25 для атрибута 0 =  5.1\n",
            "персентиль 75 для атрибута 0 =  6.4\n",
            "\n",
            "\n",
            "min для атрибута 1 =  2.0\n",
            "max для атрибута 1 =  4.4\n",
            "среднее для атрибута 1 =  3.0540000000000003\n",
            "медиана для атрибута 1 =  3.0\n",
            "персентиль 25 для атрибута 1 =  2.8\n",
            "персентиль 75 для атрибута 1 =  3.3\n",
            "\n",
            "\n",
            "min для атрибута 2 =  1.0\n",
            "max для атрибута 2 =  6.9\n",
            "среднее для атрибута 2 =  3.758666666666666\n",
            "медиана для атрибута 2 =  4.35\n",
            "персентиль 25 для атрибута 2 =  1.6\n",
            "персентиль 75 для атрибута 2 =  5.1\n",
            "\n",
            "\n",
            "min для атрибута 3 =  0.1\n",
            "max для атрибута 3 =  2.5\n",
            "среднее для атрибута 3 =  1.1986666666666668\n",
            "медиана для атрибута 3 =  1.3\n",
            "персентиль 25 для атрибута 3 =  0.3\n",
            "персентиль 75 для атрибута 3 =  1.8\n",
            "\n",
            "\n"
          ]
        }
      ]
    },
    {
      "cell_type": "code",
      "source": [
        "import matplotlib.pyplot as gistogramma\n",
        "\n",
        "for i in range(len(mas_num)):\n",
        "  gistogramma.hist(mas_num[i])\n",
        "  gistogramma.title(f'Гистограмма {i}')\n",
        "  gistogramma.show()\n",
        "\n",
        "\n"
      ],
      "metadata": {
        "colab": {
          "base_uri": "https://localhost:8080/",
          "height": 1000
        },
        "id": "uiXTV3dpoknH",
        "outputId": "052d2870-a0ca-4496-c9c4-2d0b31caf49d"
      },
      "execution_count": 23,
      "outputs": [
        {
          "output_type": "display_data",
          "data": {
            "image/png": "[encoded data removed]",
            "text/plain": [
              "<Figure size 432x288 with 1 Axes>"
            ]
          },
          "metadata": {
            "needs_background": "light"
          }
        },
        {
          "output_type": "display_data",
          "data": {
            "image/png": "[encoded data removed]",
            "text/plain": [
              "<Figure size 432x288 with 1 Axes>"
            ]
          },
          "metadata": {
            "needs_background": "light"
          }
        },
        {
          "output_type": "display_data",
          "data": {
            "image/png": "[encoded data removed]",
            "text/plain": [
              "<Figure size 432x288 with 1 Axes>"
            ]
          },
          "metadata": {
            "needs_background": "light"
          }
        },
        {
          "output_type": "display_data",
          "data": {
            "image/png": "[encoded data removed]",
            "text/plain": [
              "<Figure size 432x288 with 1 Axes>"
            ]
          },
          "metadata": {
            "needs_background": "light"
          }
        }
      ]
    },
    {
      "cell_type": "code",
      "source": [
        "mas_1=[np.genfromtxt(url, delimiter=',', dtype=float, usecols=[0])]\n",
        "mas_2=[np.genfromtxt(url, delimiter=',', dtype=float, usecols=[1])]\n",
        "mas_3=[np.genfromtxt(url, delimiter=',', dtype=float, usecols=[2])]\n",
        "mas_4=[np.genfromtxt(url, delimiter=',', dtype=float, usecols=[3])]\n",
        "mas_5=[np.genfromtxt(url, delimiter=',', dtype=str, usecols=[4])]\n",
        "mas_1       "
      ],
      "metadata": {
        "colab": {
          "base_uri": "https://localhost:8080/"
        },
        "id": "peXGmo1P-iFb",
        "outputId": "383377f4-2724-4d90-d42f-34aed5d87556"
      },
      "execution_count": 39,
      "outputs": [
        {
          "output_type": "execute_result",
          "data": {
            "text/plain": [
              "[array([5.1, 4.9, 4.7, 4.6, 5. , 5.4, 4.6, 5. , 4.4, 4.9, 5.4, 4.8, 4.8,\n",
              "        4.3, 5.8, 5.7, 5.4, 5.1, 5.7, 5.1, 5.4, 5.1, 4.6, 5.1, 4.8, 5. ,\n",
              "        5. , 5.2, 5.2, 4.7, 4.8, 5.4, 5.2, 5.5, 4.9, 5. , 5.5, 4.9, 4.4,\n",
              "        5.1, 5. , 4.5, 4.4, 5. , 5.1, 4.8, 5.1, 4.6, 5.3, 5. , 7. , 6.4,\n",
              "        6.9, 5.5, 6.5, 5.7, 6.3, 4.9, 6.6, 5.2, 5. , 5.9, 6. , 6.1, 5.6,\n",
              "        6.7, 5.6, 5.8, 6.2, 5.6, 5.9, 6.1, 6.3, 6.1, 6.4, 6.6, 6.8, 6.7,\n",
              "        6. , 5.7, 5.5, 5.5, 5.8, 6. , 5.4, 6. , 6.7, 6.3, 5.6, 5.5, 5.5,\n",
              "        6.1, 5.8, 5. , 5.6, 5.7, 5.7, 6.2, 5.1, 5.7, 6.3, 5.8, 7.1, 6.3,\n",
              "        6.5, 7.6, 4.9, 7.3, 6.7, 7.2, 6.5, 6.4, 6.8, 5.7, 5.8, 6.4, 6.5,\n",
              "        7.7, 7.7, 6. , 6.9, 5.6, 7.7, 6.3, 6.7, 7.2, 6.2, 6.1, 6.4, 7.2,\n",
              "        7.4, 7.9, 6.4, 6.3, 6.1, 7.7, 6.3, 6.4, 6. , 6.9, 6.7, 6.9, 5.8,\n",
              "        6.8, 6.7, 6.7, 6.3, 6.5, 6.2, 5.9])]"
            ]
          },
          "metadata": {},
          "execution_count": 39
        }
      ]
    },
    {
      "cell_type": "code",
      "source": [
        "np.unique(mas_5)"
      ],
      "metadata": {
        "colab": {
          "base_uri": "https://localhost:8080/"
        },
        "id": "mDdTiD_J_Klw",
        "outputId": "80dd065a-2a7e-49fc-f414-0f07fd592bca"
      },
      "execution_count": 7,
      "outputs": [
        {
          "output_type": "execute_result",
          "data": {
            "text/plain": [
              "array(['Iris-setosa', 'Iris-versicolor', 'Iris-virginica'], dtype='<U15')"
            ]
          },
          "metadata": {},
          "execution_count": 7
        }
      ]
    },
    {
      "cell_type": "code",
      "source": [
        "list_mas = []\n",
        "for i in range(len(mas_num)):\n",
        "  for categor in np.unique(mas_5):\n",
        "    list_mas.append([i,categor,mas_num[i][mas_5==categor]])\n",
        "list_mas"
      ],
      "metadata": {
        "id": "hVufZ4YR_hPz"
      },
      "execution_count": null,
      "outputs": []
    },
    {
      "cell_type": "code",
      "source": [
        "len(list_mas)"
      ],
      "metadata": {
        "colab": {
          "base_uri": "https://localhost:8080/"
        },
        "id": "5p4ZnYGUHepv",
        "outputId": "08e6662c-1ac3-403d-d7da-265250e6c841"
      },
      "execution_count": 34,
      "outputs": [
        {
          "output_type": "execute_result",
          "data": {
            "text/plain": [
              "12"
            ]
          },
          "metadata": {},
          "execution_count": 34
        }
      ]
    },
    {
      "cell_type": "code",
      "source": [
        "list_mas"
      ],
      "metadata": {
        "id": "1PvGTMG6Hs8p"
      },
      "execution_count": null,
      "outputs": []
    },
    {
      "cell_type": "code",
      "source": [
        "for i in range(len(list_mas)):\n",
        "  print(f'атрибут {list_mas[i][0]+1} группы {list_mas[i][1]}')\n",
        "  print('\\n')\n",
        "  print(f'min для атрибута {i} = ' , np.min(list_mas[i][2]))\n",
        "  print(f'max для атрибута {i} = ' , np.max(list_mas[i][2]))\n",
        "  print(f'среднее для атрибута {i} = ' , np.mean(list_mas[i][2]))\n",
        "  print(f'медиана для атрибута {i} = ' , np.median(list_mas[i][2]))\n",
        "  print(f'персентиль 25 для атрибута {i} = ' , np.percentile(list_mas[i][2],25))\n",
        "  print(f'персентиль 75 для атрибута {i} = ' , np.percentile(list_mas[i][2],75))\n",
        "  print('\\n')\n",
        "  gistogramma.hist(list_mas[i][2])\n",
        "  gistogramma.title(f'Гистограмма {i}')\n",
        "  gistogramma.show()\n",
        "\n",
        "  print('\\n')"
      ],
      "metadata": {
        "colab": {
          "base_uri": "https://localhost:8080/",
          "height": 1000
        },
        "id": "9tT58E7XBvIU",
        "outputId": "46db710e-43c7-4d4b-aef9-ec9b7a00e96c"
      },
      "execution_count": 45,
      "outputs": [
        {
          "output_type": "stream",
          "name": "stdout",
          "text": [
            "атрибут 1 группы Iris-setosa\n",
            "\n",
            "\n",
            "min для атрибута 0 =  4.3\n",
            "max для атрибута 0 =  7.9\n",
            "среднее для атрибута 0 =  5.843333333333334\n",
            "медиана для атрибута 0 =  5.8\n",
            "персентиль 25 для атрибута 0 =  5.1\n",
            "персентиль 75 для атрибута 0 =  6.4\n",
            "\n",
            "\n"
          ]
        },
        {
          "output_type": "display_data",
          "data": {
            "image/png": "[encoded data removed]",
            "text/plain": [
              "<Figure size 432x288 with 1 Axes>"
            ]
          },
          "metadata": {
            "needs_background": "light"
          }
        },
        {
          "output_type": "stream",
          "name": "stdout",
          "text": [
            "\n",
            "\n",
            "атрибут 1 группы Iris-versicolor\n",
            "\n",
            "\n",
            "min для атрибута 1 =  4.3\n",
            "max для атрибута 1 =  7.9\n",
            "среднее для атрибута 1 =  5.843333333333334\n",
            "медиана для атрибута 1 =  5.8\n",
            "персентиль 25 для атрибута 1 =  5.1\n",
            "персентиль 75 для атрибута 1 =  6.4\n",
            "\n",
            "\n"
          ]
        },
        {
          "output_type": "display_data",
          "data": {
            "image/png": "[encoded data removed]",
            "text/plain": [
              "<Figure size 432x288 with 1 Axes>"
            ]
          },
          "metadata": {
            "needs_background": "light"
          }
        },
        {
          "output_type": "stream",
          "name": "stdout",
          "text": [
            "\n",
            "\n",
            "атрибут 1 группы Iris-virginica\n",
            "\n",
            "\n",
            "min для атрибута 2 =  4.3\n",
            "max для атрибута 2 =  7.9\n",
            "среднее для атрибута 2 =  5.843333333333334\n",
            "медиана для атрибута 2 =  5.8\n",
            "персентиль 25 для атрибута 2 =  5.1\n",
            "персентиль 75 для атрибута 2 =  6.4\n",
            "\n",
            "\n"
          ]
        },
        {
          "output_type": "display_data",
          "data": {
            "image/png": "[encoded data removed]",
            "text/plain": [
              "<Figure size 432x288 with 1 Axes>"
            ]
          },
          "metadata": {
            "needs_background": "light"
          }
        },
        {
          "output_type": "stream",
          "name": "stdout",
          "text": [
            "\n",
            "\n",
            "атрибут 2 группы Iris-setosa\n",
            "\n",
            "\n",
            "min для атрибута 3 =  2.0\n",
            "max для атрибута 3 =  4.4\n",
            "среднее для атрибута 3 =  3.0540000000000003\n",
            "медиана для атрибута 3 =  3.0\n",
            "персентиль 25 для атрибута 3 =  2.8\n",
            "персентиль 75 для атрибута 3 =  3.3\n",
            "\n",
            "\n"
          ]
        },
        {
          "output_type": "display_data",
          "data": {
            "image/png": "[encoded data removed]",
            "text/plain": [
              "<Figure size 432x288 with 1 Axes>"
            ]
          },
          "metadata": {
            "needs_background": "light"
          }
        },
        {
          "output_type": "stream",
          "name": "stdout",
          "text": [
            "\n",
            "\n",
            "атрибут 2 группы Iris-versicolor\n",
            "\n",
            "\n",
            "min для атрибута 4 =  2.0\n",
            "max для атрибута 4 =  4.4\n",
            "среднее для атрибута 4 =  3.0540000000000003\n",
            "медиана для атрибута 4 =  3.0\n",
            "персентиль 25 для атрибута 4 =  2.8\n",
            "персентиль 75 для атрибута 4 =  3.3\n",
            "\n",
            "\n"
          ]
        },
        {
          "output_type": "display_data",
          "data": {
            "image/png": "[encoded data removed]",
            "text/plain": [
              "<Figure size 432x288 with 1 Axes>"
            ]
          },
          "metadata": {
            "needs_background": "light"
          }
        },
        {
          "output_type": "stream",
          "name": "stdout",
          "text": [
            "\n",
            "\n",
            "атрибут 2 группы Iris-virginica\n",
            "\n",
            "\n",
            "min для атрибута 5 =  2.0\n",
            "max для атрибута 5 =  4.4\n",
            "среднее для атрибута 5 =  3.0540000000000003\n",
            "медиана для атрибута 5 =  3.0\n",
            "персентиль 25 для атрибута 5 =  2.8\n",
            "персентиль 75 для атрибута 5 =  3.3\n",
            "\n",
            "\n"
          ]
        },
        {
          "output_type": "display_data",
          "data": {
            "image/png": "[encoded data removed]",
            "text/plain": [
              "<Figure size 432x288 with 1 Axes>"
            ]
          },
          "metadata": {
            "needs_background": "light"
          }
        },
        {
          "output_type": "stream",
          "name": "stdout",
          "text": [
            "\n",
            "\n",
            "атрибут 3 группы Iris-setosa\n",
            "\n",
            "\n",
            "min для атрибута 6 =  1.0\n",
            "max для атрибута 6 =  6.9\n",
            "среднее для атрибута 6 =  3.758666666666666\n",
            "медиана для атрибута 6 =  4.35\n",
            "персентиль 25 для атрибута 6 =  1.6\n",
            "персентиль 75 для атрибута 6 =  5.1\n",
            "\n",
            "\n"
          ]
        },
        {
          "output_type": "display_data",
          "data": {
            "image/png": "[encoded data removed]",
            "text/plain": [
              "<Figure size 432x288 with 1 Axes>"
            ]
          },
          "metadata": {
            "needs_background": "light"
          }
        },
        {
          "output_type": "stream",
          "name": "stdout",
          "text": [
            "\n",
            "\n",
            "атрибут 3 группы Iris-versicolor\n",
            "\n",
            "\n",
            "min для атрибута 7 =  1.0\n",
            "max для атрибута 7 =  6.9\n",
            "среднее для атрибута 7 =  3.758666666666666\n",
            "медиана для атрибута 7 =  4.35\n",
            "персентиль 25 для атрибута 7 =  1.6\n",
            "персентиль 75 для атрибута 7 =  5.1\n",
            "\n",
            "\n"
          ]
        },
        {
          "output_type": "display_data",
          "data": {
            "image/png": "[encoded data removed]",
            "text/plain": [
              "<Figure size 432x288 with 1 Axes>"
            ]
          },
          "metadata": {
            "needs_background": "light"
          }
        },
        {
          "output_type": "stream",
          "name": "stdout",
          "text": [
            "\n",
            "\n",
            "атрибут 3 группы Iris-virginica\n",
            "\n",
            "\n",
            "min для атрибута 8 =  1.0\n",
            "max для атрибута 8 =  6.9\n",
            "среднее для атрибута 8 =  3.758666666666666\n",
            "медиана для атрибута 8 =  4.35\n",
            "персентиль 25 для атрибута 8 =  1.6\n",
            "персентиль 75 для атрибута 8 =  5.1\n",
            "\n",
            "\n"
          ]
        },
        {
          "output_type": "display_data",
          "data": {
            "image/png": "[encoded data removed]",
            "text/plain": [
              "<Figure size 432x288 with 1 Axes>"
            ]
          },
          "metadata": {
            "needs_background": "light"
          }
        },
        {
          "output_type": "stream",
          "name": "stdout",
          "text": [
            "\n",
            "\n",
            "атрибут 4 группы Iris-setosa\n",
            "\n",
            "\n",
            "min для атрибута 9 =  0.1\n",
            "max для атрибута 9 =  2.5\n",
            "среднее для атрибута 9 =  1.1986666666666668\n",
            "медиана для атрибута 9 =  1.3\n",
            "персентиль 25 для атрибута 9 =  0.3\n",
            "персентиль 75 для атрибута 9 =  1.8\n",
            "\n",
            "\n"
          ]
        },
        {
          "output_type": "display_data",
          "data": {
            "image/png": "[encoded data removed]",
            "text/plain": [
              "<Figure size 432x288 with 1 Axes>"
            ]
          },
          "metadata": {
            "needs_background": "light"
          }
        },
        {
          "output_type": "stream",
          "name": "stdout",
          "text": [
            "\n",
            "\n",
            "атрибут 4 группы Iris-versicolor\n",
            "\n",
            "\n",
            "min для атрибута 10 =  0.1\n",
            "max для атрибута 10 =  2.5\n",
            "среднее для атрибута 10 =  1.1986666666666668\n",
            "медиана для атрибута 10 =  1.3\n",
            "персентиль 25 для атрибута 10 =  0.3\n",
            "персентиль 75 для атрибута 10 =  1.8\n",
            "\n",
            "\n"
          ]
        },
        {
          "output_type": "display_data",
          "data": {
            "image/png": "[encoded data removed]",
            "text/plain": [
              "<Figure size 432x288 with 1 Axes>"
            ]
          },
          "metadata": {
            "needs_background": "light"
          }
        },
        {
          "output_type": "stream",
          "name": "stdout",
          "text": [
            "\n",
            "\n",
            "атрибут 4 группы Iris-virginica\n",
            "\n",
            "\n",
            "min для атрибута 11 =  0.1\n",
            "max для атрибута 11 =  2.5\n",
            "среднее для атрибута 11 =  1.1986666666666668\n",
            "медиана для атрибута 11 =  1.3\n",
            "персентиль 25 для атрибута 11 =  0.3\n",
            "персентиль 75 для атрибута 11 =  1.8\n",
            "\n",
            "\n"
          ]
        },
        {
          "output_type": "display_data",
          "data": {
            "image/png": "[encoded data removed]",
            "text/plain": [
              "<Figure size 432x288 with 1 Axes>"
            ]
          },
          "metadata": {
            "needs_background": "light"
          }
        },
        {
          "output_type": "stream",
          "name": "stdout",
          "text": [
            "\n",
            "\n"
          ]
        }
      ]
    }
  ]
}